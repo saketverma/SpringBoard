{
 "cells": [
  {
   "cell_type": "code",
   "execution_count": 4,
   "metadata": {},
   "outputs": [
    {
     "data": {
      "application/javascript": [
       "IPython.notebook.set_autosave_interval(120000)"
      ]
     },
     "metadata": {},
     "output_type": "display_data"
    },
    {
     "name": "stdout",
     "output_type": "stream",
     "text": [
      "Autosaving every 120 seconds\n"
     ]
    }
   ],
   "source": [
    "%autosave 120\n",
    "import numpy as np\n",
    "import pandas as pd\n",
    "import matplotlib.pyplot as plt\n",
    "from scipy.stats import zscore\n",
    "import seaborn as sns\n",
    "import re\n",
    "from scipy.stats import norm"
   ]
  },
  {
   "cell_type": "code",
   "execution_count": 5,
   "metadata": {},
   "outputs": [
    {
     "name": "stdout",
     "output_type": "stream",
     "text": [
      "<class 'pandas.core.frame.DataFrame'>\n",
      "RangeIndex: 746 entries, 0 to 745\n",
      "Data columns (total 20 columns):\n",
      " #   Column            Non-Null Count  Dtype  \n",
      "---  ------            --------------  -----  \n",
      " 0   city              733 non-null    object \n",
      " 1   date              746 non-null    object \n",
      " 2   season            746 non-null    int64  \n",
      " 3   team1             746 non-null    object \n",
      " 4   team2             746 non-null    object \n",
      " 5   toss_winner       746 non-null    object \n",
      " 6   toss_decision     746 non-null    object \n",
      " 7   winner            734 non-null    object \n",
      " 8   win_by_runs       336 non-null    float64\n",
      " 9   win_by_wickets    398 non-null    float64\n",
      " 10  eliminator        8 non-null      object \n",
      " 11  dl_applied        19 non-null     object \n",
      " 12  result            12 non-null     object \n",
      " 13  overs             746 non-null    int64  \n",
      " 14  player_of_match   742 non-null    object \n",
      " 15  venue             746 non-null    object \n",
      " 16  first_bat_team    746 non-null    object \n",
      " 17  first_bowl_team   746 non-null    object \n",
      " 18  first_bat_score   746 non-null    float64\n",
      " 19  second_bat_score  744 non-null    float64\n",
      "dtypes: float64(4), int64(2), object(14)\n",
      "memory usage: 116.7+ KB\n",
      "None\n",
      "Index(['city', 'date', 'season', 'team1', 'team2', 'toss_winner',\n",
      "       'toss_decision', 'winner', 'win_by_runs', 'win_by_wickets',\n",
      "       'eliminator', 'dl_applied', 'result', 'overs', 'player_of_match',\n",
      "       'venue', 'first_bat_team', 'first_bowl_team', 'first_bat_score',\n",
      "       'second_bat_score'],\n",
      "      dtype='object')\n"
     ]
    }
   ],
   "source": [
    "match_data=pd.read_csv('match_data.csv')\n",
    "\n",
    "core=pd.DataFrame(dict(match_data[['city','date','season','team1','team2','toss_winner','toss_decision','winner','win_by_runs','win_by_wickets','eliminator','dl_applied','result','overs','player_of_match','venue','first_bat_team','first_bowl_team','first_bat_score','second_bat_score']]))\n",
    "print(core.info())\n",
    "print(core.columns)\n",
    "core['city'].fillna('Unknown',inplace=True)\n",
    "core['city']=core['city'].astype(str).apply(lambda x:x.replace('Bengaluru','Bangalore'))\n",
    "core['date']=pd.to_datetime(core['date'])\n",
    "#print(core)\n",
    "f_core=core.set_index(['date','city']).sort_index()\n",
    "\n",
    "f_core['winner'].fillna(f_core['result'],inplace=True)\n",
    "#Replace all the Null values with No\n",
    "f_core['dl_applied'].fillna('No',inplace=True)\n",
    "#Replace all the D/L with Yes\n",
    "f_core['dl_applied']=f_core['dl_applied'].apply(lambda x:x.replace('D/L','Yes'))\n",
    "f_core['winner']=f_core['winner'].replace('tie',f_core['eliminator'])\n",
    "\n",
    "f_core.replace('Rising Pune Supergiant','Rising Pune Supergiants',inplace=True)\n",
    "f_core.replace('Delhi Capitals','Delhi Daredevils',inplace=True)\n",
    "f_core.replace('Deccan Chargers','Sunrisers Hyderabad',inplace=True)\n",
    "f_core.replace(to_replace =['Delhi Daredevils', 'Sunrisers Hyderabad','Royal Challengers Bangalore','Chennai Super Kings','Mumbai Indians','Kolkata Knight Riders','Kings XI Punjab','Rajasthan Royals','Rising Pune Supergiants','Gujarat Lions','Pune Warriors','Kochi Tuskers Kerala']\n",
    "                            ,value =['DD','SRH','RCB','CSK','MI','KKR','KXIP','RR','RPS','GL','PW','KTK'],inplace=True) \n",
    "\n",
    "\n"
   ]
  },
  {
   "cell_type": "code",
   "execution_count": 6,
   "metadata": {},
   "outputs": [],
   "source": [
    "#Delete the result dataframe after using to fill values in winner column \n",
    "del f_core['result']\n",
    "del f_core['eliminator']"
   ]
  },
  {
   "cell_type": "code",
   "execution_count": 7,
   "metadata": {},
   "outputs": [],
   "source": [
    "#Drop No Result columns as it will affect the Statistics\n",
    "f_core.drop(f_core[f_core['winner'] == 'no result'].index, inplace = True) "
   ]
  },
  {
   "cell_type": "code",
   "execution_count": 8,
   "metadata": {},
   "outputs": [
    {
     "data": {
      "text/plain": [
       "(742, 16)"
      ]
     },
     "execution_count": 8,
     "metadata": {},
     "output_type": "execute_result"
    }
   ],
   "source": [
    "#Check the shape of the DataFrame\n",
    "f_core.shape\n",
    "#(f_core['dl_applied']=='Yes').sum()"
   ]
  },
  {
   "cell_type": "code",
   "execution_count": 9,
   "metadata": {
    "scrolled": false
   },
   "outputs": [
    {
     "name": "stdout",
     "output_type": "stream",
     "text": [
      "Index(['season', 'team1', 'team2', 'toss_winner', 'toss_decision', 'winner',\n",
      "       'win_by_runs', 'win_by_wickets', 'dl_applied', 'overs',\n",
      "       'player_of_match', 'venue', 'first_bat_team', 'first_bowl_team',\n",
      "       'first_bat_score', 'second_bat_score'],\n",
      "      dtype='object')\n",
      "<class 'pandas.core.frame.DataFrame'>\n",
      "MultiIndex: 742 entries, (Timestamp('2008-04-18 00:00:00'), 'Bangalore') to (Timestamp('2019-05-01 00:00:00'), 'Chennai')\n",
      "Data columns (total 16 columns):\n",
      " #   Column            Non-Null Count  Dtype  \n",
      "---  ------            --------------  -----  \n",
      " 0   season            742 non-null    int64  \n",
      " 1   team1             742 non-null    object \n",
      " 2   team2             742 non-null    object \n",
      " 3   toss_winner       742 non-null    object \n",
      " 4   toss_decision     742 non-null    object \n",
      " 5   winner            742 non-null    object \n",
      " 6   win_by_runs       336 non-null    float64\n",
      " 7   win_by_wickets    398 non-null    float64\n",
      " 8   dl_applied        742 non-null    object \n",
      " 9   overs             742 non-null    int64  \n",
      " 10  player_of_match   742 non-null    object \n",
      " 11  venue             742 non-null    object \n",
      " 12  first_bat_team    742 non-null    object \n",
      " 13  first_bowl_team   742 non-null    object \n",
      " 14  first_bat_score   742 non-null    float64\n",
      " 15  second_bat_score  742 non-null    float64\n",
      "dtypes: float64(4), int64(2), object(10)\n",
      "memory usage: 99.5+ KB\n"
     ]
    }
   ],
   "source": [
    "print(f_core.columns)\n",
    "f_core.info()"
   ]
  },
  {
   "cell_type": "code",
   "execution_count": 10,
   "metadata": {
    "scrolled": true
   },
   "outputs": [
    {
     "name": "stdout",
     "output_type": "stream",
     "text": [
      "<class 'pandas.core.frame.DataFrame'>\n",
      "MultiIndex: 742 entries, (Timestamp('2008-04-18 00:00:00'), 'Bangalore') to (Timestamp('2019-05-01 00:00:00'), 'Chennai')\n",
      "Data columns (total 16 columns):\n",
      " #   Column            Non-Null Count  Dtype  \n",
      "---  ------            --------------  -----  \n",
      " 0   season            742 non-null    int64  \n",
      " 1   team1             742 non-null    object \n",
      " 2   team2             742 non-null    object \n",
      " 3   toss_winner       742 non-null    object \n",
      " 4   toss_decision     742 non-null    object \n",
      " 5   winner            742 non-null    object \n",
      " 6   win_by_runs       336 non-null    float64\n",
      " 7   win_by_wickets    398 non-null    float64\n",
      " 8   dl_applied        742 non-null    object \n",
      " 9   overs             742 non-null    int64  \n",
      " 10  player_of_match   742 non-null    object \n",
      " 11  venue             742 non-null    object \n",
      " 12  first_bat_team    742 non-null    object \n",
      " 13  first_bowl_team   742 non-null    object \n",
      " 14  first_bat_score   742 non-null    float64\n",
      " 15  second_bat_score  742 non-null    float64\n",
      "dtypes: float64(4), int64(2), object(10)\n",
      "memory usage: 99.5+ KB\n"
     ]
    }
   ],
   "source": [
    "#Filled unknown player_of_matches with 'Not Available'\n",
    "f_core['player_of_match'].fillna('Not Available',inplace=True)\n",
    "f_core.info()\n",
    "#print(f_core['player_of_match'].isna().sum())\n"
   ]
  },
  {
   "cell_type": "code",
   "execution_count": 11,
   "metadata": {},
   "outputs": [
    {
     "data": {
      "text/html": [
       "<div>\n",
       "<style scoped>\n",
       "    .dataframe tbody tr th:only-of-type {\n",
       "        vertical-align: middle;\n",
       "    }\n",
       "\n",
       "    .dataframe tbody tr th {\n",
       "        vertical-align: top;\n",
       "    }\n",
       "\n",
       "    .dataframe thead th {\n",
       "        text-align: right;\n",
       "    }\n",
       "</style>\n",
       "<table border=\"1\" class=\"dataframe\">\n",
       "  <thead>\n",
       "    <tr style=\"text-align: right;\">\n",
       "      <th></th>\n",
       "      <th>season</th>\n",
       "      <th>win_by_runs</th>\n",
       "      <th>win_by_wickets</th>\n",
       "      <th>overs</th>\n",
       "      <th>first_bat_score</th>\n",
       "      <th>second_bat_score</th>\n",
       "    </tr>\n",
       "  </thead>\n",
       "  <tbody>\n",
       "    <tr>\n",
       "      <th>count</th>\n",
       "      <td>742.000000</td>\n",
       "      <td>336.000000</td>\n",
       "      <td>398.000000</td>\n",
       "      <td>742.0</td>\n",
       "      <td>742.000000</td>\n",
       "      <td>742.000000</td>\n",
       "    </tr>\n",
       "    <tr>\n",
       "      <th>mean</th>\n",
       "      <td>2013.361186</td>\n",
       "      <td>29.883929</td>\n",
       "      <td>6.251256</td>\n",
       "      <td>20.0</td>\n",
       "      <td>161.545822</td>\n",
       "      <td>148.181941</td>\n",
       "    </tr>\n",
       "    <tr>\n",
       "      <th>std</th>\n",
       "      <td>3.327228</td>\n",
       "      <td>27.276827</td>\n",
       "      <td>1.821281</td>\n",
       "      <td>0.0</td>\n",
       "      <td>30.105705</td>\n",
       "      <td>30.478338</td>\n",
       "    </tr>\n",
       "    <tr>\n",
       "      <th>min</th>\n",
       "      <td>2008.000000</td>\n",
       "      <td>1.000000</td>\n",
       "      <td>1.000000</td>\n",
       "      <td>20.0</td>\n",
       "      <td>67.000000</td>\n",
       "      <td>44.000000</td>\n",
       "    </tr>\n",
       "    <tr>\n",
       "      <th>25%</th>\n",
       "      <td>2011.000000</td>\n",
       "      <td>11.000000</td>\n",
       "      <td>5.000000</td>\n",
       "      <td>20.0</td>\n",
       "      <td>142.000000</td>\n",
       "      <td>132.000000</td>\n",
       "    </tr>\n",
       "    <tr>\n",
       "      <th>50%</th>\n",
       "      <td>2013.000000</td>\n",
       "      <td>22.000000</td>\n",
       "      <td>6.000000</td>\n",
       "      <td>20.0</td>\n",
       "      <td>163.000000</td>\n",
       "      <td>150.000000</td>\n",
       "    </tr>\n",
       "    <tr>\n",
       "      <th>75%</th>\n",
       "      <td>2016.000000</td>\n",
       "      <td>39.000000</td>\n",
       "      <td>8.000000</td>\n",
       "      <td>20.0</td>\n",
       "      <td>182.000000</td>\n",
       "      <td>169.000000</td>\n",
       "    </tr>\n",
       "    <tr>\n",
       "      <th>max</th>\n",
       "      <td>2019.000000</td>\n",
       "      <td>146.000000</td>\n",
       "      <td>10.000000</td>\n",
       "      <td>20.0</td>\n",
       "      <td>263.000000</td>\n",
       "      <td>223.000000</td>\n",
       "    </tr>\n",
       "  </tbody>\n",
       "</table>\n",
       "</div>"
      ],
      "text/plain": [
       "            season  win_by_runs  win_by_wickets  overs  first_bat_score  \\\n",
       "count   742.000000   336.000000      398.000000  742.0       742.000000   \n",
       "mean   2013.361186    29.883929        6.251256   20.0       161.545822   \n",
       "std       3.327228    27.276827        1.821281    0.0        30.105705   \n",
       "min    2008.000000     1.000000        1.000000   20.0        67.000000   \n",
       "25%    2011.000000    11.000000        5.000000   20.0       142.000000   \n",
       "50%    2013.000000    22.000000        6.000000   20.0       163.000000   \n",
       "75%    2016.000000    39.000000        8.000000   20.0       182.000000   \n",
       "max    2019.000000   146.000000       10.000000   20.0       263.000000   \n",
       "\n",
       "       second_bat_score  \n",
       "count        742.000000  \n",
       "mean         148.181941  \n",
       "std           30.478338  \n",
       "min           44.000000  \n",
       "25%          132.000000  \n",
       "50%          150.000000  \n",
       "75%          169.000000  \n",
       "max          223.000000  "
      ]
     },
     "execution_count": 11,
     "metadata": {},
     "output_type": "execute_result"
    }
   ],
   "source": [
    "f_core.describe()"
   ]
  },
  {
   "cell_type": "code",
   "execution_count": 12,
   "metadata": {},
   "outputs": [
    {
     "data": {
      "text/plain": [
       "Index(['Bangalore', 'Chandigarh', 'Delhi', 'Kolkata', 'Mumbai', 'Jaipur',\n",
       "       'Hyderabad', 'Chennai', 'Cape Town', 'Port Elizabeth', 'Durban',\n",
       "       'Centurion', 'East London', 'Johannesburg', 'Kimberley', 'Bloemfontein',\n",
       "       'Ahmedabad', 'Cuttack', 'Nagpur', 'Dharamsala', 'Kochi', 'Indore',\n",
       "       'Visakhapatnam', 'Pune', 'Raipur', 'Ranchi', 'Abu Dhabi', 'Unknown',\n",
       "       'Rajkot', 'Kanpur'],\n",
       "      dtype='object', name='city')"
      ]
     },
     "execution_count": 12,
     "metadata": {},
     "output_type": "execute_result"
    },
    {
     "data": {
      "image/png": "[encoded data removed]",
      "text/plain": [
       "<Figure size 432x288 with 1 Axes>"
      ]
     },
     "metadata": {
      "needs_background": "light"
     },
     "output_type": "display_data"
    }
   ],
   "source": [
    "f_core.loc[('2008','Bangalore'),('toss_winner','first_bat_score')].plot(kind='bar')\n",
    "f_core.index.get_level_values(1).unique()"
   ]
  },
  {
   "cell_type": "code",
   "execution_count": 13,
   "metadata": {},
   "outputs": [
    {
     "data": {
      "text/html": [
       "<div>\n",
       "<style scoped>\n",
       "    .dataframe tbody tr th:only-of-type {\n",
       "        vertical-align: middle;\n",
       "    }\n",
       "\n",
       "    .dataframe tbody tr th {\n",
       "        vertical-align: top;\n",
       "    }\n",
       "\n",
       "    .dataframe thead th {\n",
       "        text-align: right;\n",
       "    }\n",
       "</style>\n",
       "<table border=\"1\" class=\"dataframe\">\n",
       "  <thead>\n",
       "    <tr style=\"text-align: right;\">\n",
       "      <th></th>\n",
       "      <th></th>\n",
       "      <th>season</th>\n",
       "      <th>team1</th>\n",
       "      <th>team2</th>\n",
       "      <th>toss_winner</th>\n",
       "      <th>toss_decision</th>\n",
       "      <th>winner</th>\n",
       "      <th>win_by_runs</th>\n",
       "      <th>win_by_wickets</th>\n",
       "      <th>dl_applied</th>\n",
       "      <th>overs</th>\n",
       "      <th>player_of_match</th>\n",
       "      <th>venue</th>\n",
       "      <th>first_bat_team</th>\n",
       "      <th>first_bowl_team</th>\n",
       "      <th>first_bat_score</th>\n",
       "      <th>second_bat_score</th>\n",
       "    </tr>\n",
       "    <tr>\n",
       "      <th>date</th>\n",
       "      <th>city</th>\n",
       "      <th></th>\n",
       "      <th></th>\n",
       "      <th></th>\n",
       "      <th></th>\n",
       "      <th></th>\n",
       "      <th></th>\n",
       "      <th></th>\n",
       "      <th></th>\n",
       "      <th></th>\n",
       "      <th></th>\n",
       "      <th></th>\n",
       "      <th></th>\n",
       "      <th></th>\n",
       "      <th></th>\n",
       "      <th></th>\n",
       "      <th></th>\n",
       "    </tr>\n",
       "  </thead>\n",
       "  <tbody>\n",
       "    <tr>\n",
       "      <th>2008-04-18</th>\n",
       "      <th>Bangalore</th>\n",
       "      <td>2008</td>\n",
       "      <td>RCB</td>\n",
       "      <td>KKR</td>\n",
       "      <td>RCB</td>\n",
       "      <td>field</td>\n",
       "      <td>KKR</td>\n",
       "      <td>140.0</td>\n",
       "      <td>NaN</td>\n",
       "      <td>No</td>\n",
       "      <td>20</td>\n",
       "      <td>BB McCullum</td>\n",
       "      <td>M Chinnaswamy Stadium</td>\n",
       "      <td>KKR</td>\n",
       "      <td>RCB</td>\n",
       "      <td>222.0</td>\n",
       "      <td>82.0</td>\n",
       "    </tr>\n",
       "    <tr>\n",
       "      <th rowspan=\"2\" valign=\"top\">2008-04-19</th>\n",
       "      <th>Chandigarh</th>\n",
       "      <td>2008</td>\n",
       "      <td>KXIP</td>\n",
       "      <td>CSK</td>\n",
       "      <td>CSK</td>\n",
       "      <td>bat</td>\n",
       "      <td>CSK</td>\n",
       "      <td>33.0</td>\n",
       "      <td>NaN</td>\n",
       "      <td>No</td>\n",
       "      <td>20</td>\n",
       "      <td>MEK Hussey</td>\n",
       "      <td>Punjab Cricket Association Stadium, Mohali</td>\n",
       "      <td>CSK</td>\n",
       "      <td>KXIP</td>\n",
       "      <td>240.0</td>\n",
       "      <td>207.0</td>\n",
       "    </tr>\n",
       "    <tr>\n",
       "      <th>Delhi</th>\n",
       "      <td>2008</td>\n",
       "      <td>DD</td>\n",
       "      <td>RR</td>\n",
       "      <td>RR</td>\n",
       "      <td>bat</td>\n",
       "      <td>DD</td>\n",
       "      <td>NaN</td>\n",
       "      <td>9.0</td>\n",
       "      <td>No</td>\n",
       "      <td>20</td>\n",
       "      <td>MF Maharoof</td>\n",
       "      <td>Feroz Shah Kotla</td>\n",
       "      <td>RR</td>\n",
       "      <td>DD</td>\n",
       "      <td>129.0</td>\n",
       "      <td>132.0</td>\n",
       "    </tr>\n",
       "    <tr>\n",
       "      <th rowspan=\"2\" valign=\"top\">2008-04-20</th>\n",
       "      <th>Kolkata</th>\n",
       "      <td>2008</td>\n",
       "      <td>KKR</td>\n",
       "      <td>SRH</td>\n",
       "      <td>SRH</td>\n",
       "      <td>bat</td>\n",
       "      <td>KKR</td>\n",
       "      <td>NaN</td>\n",
       "      <td>5.0</td>\n",
       "      <td>No</td>\n",
       "      <td>20</td>\n",
       "      <td>DJ Hussey</td>\n",
       "      <td>Eden Gardens</td>\n",
       "      <td>SRH</td>\n",
       "      <td>KKR</td>\n",
       "      <td>110.0</td>\n",
       "      <td>112.0</td>\n",
       "    </tr>\n",
       "    <tr>\n",
       "      <th>Mumbai</th>\n",
       "      <td>2008</td>\n",
       "      <td>MI</td>\n",
       "      <td>RCB</td>\n",
       "      <td>MI</td>\n",
       "      <td>bat</td>\n",
       "      <td>RCB</td>\n",
       "      <td>NaN</td>\n",
       "      <td>5.0</td>\n",
       "      <td>No</td>\n",
       "      <td>20</td>\n",
       "      <td>MV Boucher</td>\n",
       "      <td>Wankhede Stadium</td>\n",
       "      <td>MI</td>\n",
       "      <td>RCB</td>\n",
       "      <td>165.0</td>\n",
       "      <td>166.0</td>\n",
       "    </tr>\n",
       "  </tbody>\n",
       "</table>\n",
       "</div>"
      ],
      "text/plain": [
       "                       season team1 team2 toss_winner toss_decision winner  \\\n",
       "date       city                                                              \n",
       "2008-04-18 Bangalore     2008   RCB   KKR         RCB         field    KKR   \n",
       "2008-04-19 Chandigarh    2008  KXIP   CSK         CSK           bat    CSK   \n",
       "           Delhi         2008    DD    RR          RR           bat     DD   \n",
       "2008-04-20 Kolkata       2008   KKR   SRH         SRH           bat    KKR   \n",
       "           Mumbai        2008    MI   RCB          MI           bat    RCB   \n",
       "\n",
       "                       win_by_runs  win_by_wickets dl_applied  overs  \\\n",
       "date       city                                                        \n",
       "2008-04-18 Bangalore         140.0             NaN         No     20   \n",
       "2008-04-19 Chandigarh         33.0             NaN         No     20   \n",
       "           Delhi               NaN             9.0         No     20   \n",
       "2008-04-20 Kolkata             NaN             5.0         No     20   \n",
       "           Mumbai              NaN             5.0         No     20   \n",
       "\n",
       "                      player_of_match  \\\n",
       "date       city                         \n",
       "2008-04-18 Bangalore      BB McCullum   \n",
       "2008-04-19 Chandigarh      MEK Hussey   \n",
       "           Delhi          MF Maharoof   \n",
       "2008-04-20 Kolkata          DJ Hussey   \n",
       "           Mumbai          MV Boucher   \n",
       "\n",
       "                                                            venue  \\\n",
       "date       city                                                     \n",
       "2008-04-18 Bangalore                        M Chinnaswamy Stadium   \n",
       "2008-04-19 Chandigarh  Punjab Cricket Association Stadium, Mohali   \n",
       "           Delhi                                 Feroz Shah Kotla   \n",
       "2008-04-20 Kolkata                                   Eden Gardens   \n",
       "           Mumbai                                Wankhede Stadium   \n",
       "\n",
       "                      first_bat_team first_bowl_team  first_bat_score  \\\n",
       "date       city                                                         \n",
       "2008-04-18 Bangalore             KKR             RCB            222.0   \n",
       "2008-04-19 Chandigarh            CSK            KXIP            240.0   \n",
       "           Delhi                  RR              DD            129.0   \n",
       "2008-04-20 Kolkata               SRH             KKR            110.0   \n",
       "           Mumbai                 MI             RCB            165.0   \n",
       "\n",
       "                       second_bat_score  \n",
       "date       city                          \n",
       "2008-04-18 Bangalore               82.0  \n",
       "2008-04-19 Chandigarh             207.0  \n",
       "           Delhi                  132.0  \n",
       "2008-04-20 Kolkata                112.0  \n",
       "           Mumbai                 166.0  "
      ]
     },
     "execution_count": 13,
     "metadata": {},
     "output_type": "execute_result"
    }
   ],
   "source": [
    "f_core.head()"
   ]
  },
  {
   "cell_type": "code",
   "execution_count": 14,
   "metadata": {},
   "outputs": [
    {
     "data": {
      "text/plain": [
       "Text(0.5, 1.0, 'No of Matches Won Per Team')"
      ]
     },
     "execution_count": 14,
     "metadata": {},
     "output_type": "execute_result"
    },
    {
     "data": {
      "image/png": "[encoded data removed]",
      "text/plain": [
       "<Figure size 432x288 with 1 Axes>"
      ]
     },
     "metadata": {
      "needs_background": "light"
     },
     "output_type": "display_data"
    }
   ],
   "source": [
    "#SHows the Teams who have Won more than 10 matches on any season so far\n",
    "f_core.groupby(['season','winner']).filter(lambda x: x['winner'].count()>10)['winner']\n",
    "#No of Matches WOn By each Team\n",
    "f_core.groupby('winner')['winner'].count().sort_values().plot(kind='barh',xticks=[10,20,30,40,50,60,70,80,90,100,110],legend=True,label='Matches Won Per Team')\n",
    "plt.title(\"No of Matches Won Per Team\", bbox={'facecolor':'0.7', 'pad':1})\n",
    "\n"
   ]
  },
  {
   "cell_type": "code",
   "execution_count": 15,
   "metadata": {},
   "outputs": [],
   "source": [
    "#cities=list(f_core.index.get_level_values(1).unique())\n",
    "#cities[1]='Punjab'\n",
    "\n",
    "#f_core.head()\n",
    "\n",
    "#print(f_core.head())\n"
   ]
  },
  {
   "cell_type": "code",
   "execution_count": 16,
   "metadata": {},
   "outputs": [
    {
     "name": "stderr",
     "output_type": "stream",
     "text": [
      "C:\\Users\\Devil\\anaconda3\\lib\\site-packages\\ipykernel_launcher.py:1: FutureWarning: Indexing with multiple keys (implicitly converted to a tuple of keys) will be deprecated, use a list instead.\n",
      "  \"\"\"Entry point for launching an IPython kernel.\n"
     ]
    },
    {
     "data": {
      "text/plain": [
       "<matplotlib.axes._subplots.AxesSubplot at 0x94620e848>"
      ]
     },
     "execution_count": 16,
     "metadata": {},
     "output_type": "execute_result"
    },
    {
     "data": {
      "image/png": "[encoded data removed]",
      "text/plain": [
       "<Figure size 432x288 with 1 Axes>"
      ]
     },
     "metadata": {
      "needs_background": "light"
     },
     "output_type": "display_data"
    }
   ],
   "source": [
    "standardized =f_core.groupby('season')['first_bat_score','second_bat_score'].transform(zscore) \n",
    " \n",
    "# Construct a Boolean Series to identify outliers: outliers\n",
    "outliers = (standardized['first_bat_score'] < -3) | (standardized['first_bat_score'] > 3)\n",
    " \n",
    "# Filter gapminder_2010 by the outliers: gm_outliers\n",
    "f_core_outliers = f_core.loc[outliers]\n",
    "f_core_outliers['first_bat_score'].plot(kind='bar')\n",
    "#plt.scatter(f_core['season'], f_core['first_bat_score'], label='data', color='green')\n",
    "\n",
    "\n",
    "#Keeping the Outliers As there are only six outliers none of them are significantly affecting the data and insights.\n"
   ]
  },
  {
   "cell_type": "code",
   "execution_count": 17,
   "metadata": {},
   "outputs": [
    {
     "data": {
      "text/plain": [
       "Text(0.5, 1.0, 'Total Matches Per IPL season')"
      ]
     },
     "execution_count": 17,
     "metadata": {},
     "output_type": "execute_result"
    },
    {
     "data": {
      "image/png": "[encoded data removed]",
      "text/plain": [
       "<Figure size 432x288 with 1 Axes>"
      ]
     },
     "metadata": {
      "needs_background": "light"
     },
     "output_type": "display_data"
    }
   ],
   "source": [
    "sns.countplot(x='season',data=f_core)\n",
    "plt.title(\"Total Matches Per IPL season\", bbox={'facecolor':'0.7', 'pad':3})"
   ]
  },
  {
   "cell_type": "code",
   "execution_count": 18,
   "metadata": {
    "scrolled": true
   },
   "outputs": [
    {
     "data": {
      "text/plain": [
       "Text(0.5, 1.0, 'No of Matches Won Overall by each team')"
      ]
     },
     "execution_count": 18,
     "metadata": {},
     "output_type": "execute_result"
    },
    {
     "data": {
      "image/png": "[encoded data removed]",
      "text/plain": [
       "<Figure size 432x288 with 1 Axes>"
      ]
     },
     "metadata": {
      "needs_background": "light"
     },
     "output_type": "display_data"
    }
   ],
   "source": [
    "# Count of No of Matches Won by Each team Overall\"\n",
    "\n",
    "data=f_core.winner.value_counts()\n",
    "#print(type(data2))\n",
    "\n",
    "data.sort_values(ascending=True).plot(kind='barh',color='green',grid=True)\n",
    "#plt.xlabel('No of Matches Played')\n",
    "#plt.ylim((0, 200))\n",
    "plt.title(\"No of Matches Won Overall by each team\", bbox={'facecolor':'0.7', 'pad':3})\n",
    "\n"
   ]
  },
  {
   "cell_type": "code",
   "execution_count": 19,
   "metadata": {},
   "outputs": [
    {
     "data": {
      "text/plain": [
       "Text(0.5, 1.0, 'No of Matches Played Overall')"
      ]
     },
     "execution_count": 19,
     "metadata": {},
     "output_type": "execute_result"
    },
    {
     "data": {
      "image/png": "[encoded data removed]",
      "text/plain": [
       "<Figure size 432x288 with 1 Axes>"
      ]
     },
     "metadata": {
      "needs_background": "light"
     },
     "output_type": "display_data"
    }
   ],
   "source": [
    "data_1 = f_core.team1.value_counts()\n",
    "data_2 =f_core.team2.value_counts()\n",
    "data_3=data_1.add(data_2)\n",
    "#plt.subplot(1,3,2)\n",
    "data3_sorted=data_3.sort_values(ascending=True)\n",
    "#plt.xlabel('No of Matches Won Per team')\n",
    "data3_sorted.plot(kind='barh',grid=True)\n",
    "plt.title(\"No of Matches Played Overall\", bbox={'facecolor':'0.7', 'pad':3})\n",
    "#plt.ylim((0, 200))"
   ]
  },
  {
   "cell_type": "code",
   "execution_count": 20,
   "metadata": {},
   "outputs": [
    {
     "data": {
      "text/plain": [
       "Text(0.5, 1.0, 'Overall Percentage of Matches Won Per Team')"
      ]
     },
     "execution_count": 20,
     "metadata": {},
     "output_type": "execute_result"
    },
    {
     "data": {
      "image/png": "[encoded data removed]",
      "text/plain": [
       "<Figure size 432x288 with 1 Axes>"
      ]
     },
     "metadata": {
      "needs_background": "light"
     },
     "output_type": "display_data"
    }
   ],
   "source": [
    "#plt.subplot(1,3,3)\n",
    "Overall_Percentage=(data/data3_sorted)*100\n",
    "Overall_Percentage.sort_values(ascending=False).plot(kind='bar',grid=True)\n",
    "plt.ylim((0, 100))\n",
    "#plt.xlabel('Overall Percentage of Matches Won/Matches Played')\n",
    "plt.title(\"Overall Percentage of Matches Won Per Team\", bbox={'facecolor':'0.7', 'pad':3})\n",
    "\n"
   ]
  },
  {
   "cell_type": "code",
   "execution_count": 21,
   "metadata": {
    "scrolled": true
   },
   "outputs": [
    {
     "data": {
      "image/png": "[encoded data removed]",
      "text/plain": [
       "<Figure size 432x288 with 1 Axes>"
      ]
     },
     "metadata": {
      "needs_background": "light"
     },
     "output_type": "display_data"
    }
   ],
   "source": [
    "data1=f_core.reset_index()\n",
    "Teams={'RCB':'Bangalore','CSK':'Chennai','SRH':'Hyderabad','MI':'Mumbai','KKR':'Kolkata','KXIP':'Chandigarh','DD':'Delhi','RR':'Jaipur','GL':'Rajkot','PW':'Pune','RPS':'Pune','KTK':'Kochi'}\n",
    "\n",
    "data_final={}\n",
    "\n",
    "for i,(j,k) in enumerate(Teams.items()):\n",
    "    #print(i,j,k)\n",
    "    data_final[j]=(data1[(data1.city==k) &((data1.team1==j) | (data1.team2==j))].groupby('winner')['winner'].count()[j])/(data1[(data1.city==k) &((data1.team1==j) | (data1.team2==j))]['winner'].count())*100\n",
    "\n",
    "data_final=pd.Series(data_final)\n",
    "data_final.sort_values().plot(kind='barh',grid=True)\n",
    "plt.xlabel('IPL Home win/played ratio')\n",
    "plt.ylabel('Teams')\n",
    "plt.title('Winning_percentage_at_Home',bbox={'facecolor':'0.9', 'pad':1.05})\n",
    "\n",
    "winning_percentage_home=data_final"
   ]
  },
  {
   "cell_type": "code",
   "execution_count": 22,
   "metadata": {},
   "outputs": [
    {
     "data": {
      "image/png": "[encoded data removed]",
      "text/plain": [
       "<Figure size 432x288 with 1 Axes>"
      ]
     },
     "metadata": {
      "needs_background": "light"
     },
     "output_type": "display_data"
    }
   ],
   "source": [
    "\n",
    "Teams={'RCB':'Bangalore','CSK':'Chennai','SRH':'Hyderabad','MI':'Mumbai','KKR':'Kolkata','KXIP':'Chandigarh','DD':'Delhi','RR':'Jaipur','GL':'Rajkot','PW':'Pune','RPS':'Pune','KTK':'Kochi'}\n",
    "\n",
    "data_final={}\n",
    "\n",
    "for i,(j,k) in enumerate(Teams.items()):\n",
    "    #print(i,j,k)\n",
    "    data_final[j]=(data1[(data1.city!=k) &((data1.team1==j) | (data1.team2==j))].groupby('winner')['winner'].count()[j])/(data1[(data1.city!=k) &((data1.team1==j) | (data1.team2==j))]['winner'].count())*100\n",
    "\n",
    "data_final=pd.Series(data_final)\n",
    "data_final.sort_values().plot(kind='barh',grid=True)\n",
    "plt.xlabel('IPL Away win/played ratio')\n",
    "plt.ylabel('Teams')\n",
    "plt.title('Winning_percentage_Away',bbox={'facecolor':'0.9', 'pad':1.05})\n",
    "\n",
    "\n",
    "\n",
    "\n",
    "winning_percentage_away=data_final\n"
   ]
  },
  {
   "cell_type": "code",
   "execution_count": 23,
   "metadata": {
    "scrolled": true
   },
   "outputs": [
    {
     "data": {
      "text/html": [
       "<div>\n",
       "<style scoped>\n",
       "    .dataframe tbody tr th:only-of-type {\n",
       "        vertical-align: middle;\n",
       "    }\n",
       "\n",
       "    .dataframe tbody tr th {\n",
       "        vertical-align: top;\n",
       "    }\n",
       "\n",
       "    .dataframe thead th {\n",
       "        text-align: right;\n",
       "    }\n",
       "</style>\n",
       "<table border=\"1\" class=\"dataframe\">\n",
       "  <thead>\n",
       "    <tr style=\"text-align: right;\">\n",
       "      <th></th>\n",
       "      <th>date</th>\n",
       "      <th>city</th>\n",
       "      <th>season</th>\n",
       "      <th>team1</th>\n",
       "      <th>team2</th>\n",
       "      <th>toss_winner</th>\n",
       "      <th>toss_decision</th>\n",
       "      <th>winner</th>\n",
       "      <th>win_by_runs</th>\n",
       "      <th>win_by_wickets</th>\n",
       "      <th>dl_applied</th>\n",
       "      <th>overs</th>\n",
       "      <th>player_of_match</th>\n",
       "      <th>venue</th>\n",
       "      <th>first_bat_team</th>\n",
       "      <th>first_bowl_team</th>\n",
       "      <th>first_bat_score</th>\n",
       "      <th>second_bat_score</th>\n",
       "    </tr>\n",
       "  </thead>\n",
       "  <tbody>\n",
       "    <tr>\n",
       "      <th>0</th>\n",
       "      <td>2008-04-18</td>\n",
       "      <td>Bangalore</td>\n",
       "      <td>2008</td>\n",
       "      <td>RCB</td>\n",
       "      <td>KKR</td>\n",
       "      <td>RCB</td>\n",
       "      <td>field</td>\n",
       "      <td>KKR</td>\n",
       "      <td>140.0</td>\n",
       "      <td>NaN</td>\n",
       "      <td>No</td>\n",
       "      <td>20</td>\n",
       "      <td>BB McCullum</td>\n",
       "      <td>M Chinnaswamy Stadium</td>\n",
       "      <td>KKR</td>\n",
       "      <td>RCB</td>\n",
       "      <td>222.0</td>\n",
       "      <td>82.0</td>\n",
       "    </tr>\n",
       "    <tr>\n",
       "      <th>1</th>\n",
       "      <td>2008-04-19</td>\n",
       "      <td>Chandigarh</td>\n",
       "      <td>2008</td>\n",
       "      <td>KXIP</td>\n",
       "      <td>CSK</td>\n",
       "      <td>CSK</td>\n",
       "      <td>bat</td>\n",
       "      <td>CSK</td>\n",
       "      <td>33.0</td>\n",
       "      <td>NaN</td>\n",
       "      <td>No</td>\n",
       "      <td>20</td>\n",
       "      <td>MEK Hussey</td>\n",
       "      <td>Punjab Cricket Association Stadium, Mohali</td>\n",
       "      <td>CSK</td>\n",
       "      <td>KXIP</td>\n",
       "      <td>240.0</td>\n",
       "      <td>207.0</td>\n",
       "    </tr>\n",
       "    <tr>\n",
       "      <th>2</th>\n",
       "      <td>2008-04-19</td>\n",
       "      <td>Delhi</td>\n",
       "      <td>2008</td>\n",
       "      <td>DD</td>\n",
       "      <td>RR</td>\n",
       "      <td>RR</td>\n",
       "      <td>bat</td>\n",
       "      <td>DD</td>\n",
       "      <td>NaN</td>\n",
       "      <td>9.0</td>\n",
       "      <td>No</td>\n",
       "      <td>20</td>\n",
       "      <td>MF Maharoof</td>\n",
       "      <td>Feroz Shah Kotla</td>\n",
       "      <td>RR</td>\n",
       "      <td>DD</td>\n",
       "      <td>129.0</td>\n",
       "      <td>132.0</td>\n",
       "    </tr>\n",
       "    <tr>\n",
       "      <th>3</th>\n",
       "      <td>2008-04-20</td>\n",
       "      <td>Kolkata</td>\n",
       "      <td>2008</td>\n",
       "      <td>KKR</td>\n",
       "      <td>SRH</td>\n",
       "      <td>SRH</td>\n",
       "      <td>bat</td>\n",
       "      <td>KKR</td>\n",
       "      <td>NaN</td>\n",
       "      <td>5.0</td>\n",
       "      <td>No</td>\n",
       "      <td>20</td>\n",
       "      <td>DJ Hussey</td>\n",
       "      <td>Eden Gardens</td>\n",
       "      <td>SRH</td>\n",
       "      <td>KKR</td>\n",
       "      <td>110.0</td>\n",
       "      <td>112.0</td>\n",
       "    </tr>\n",
       "    <tr>\n",
       "      <th>4</th>\n",
       "      <td>2008-04-20</td>\n",
       "      <td>Mumbai</td>\n",
       "      <td>2008</td>\n",
       "      <td>MI</td>\n",
       "      <td>RCB</td>\n",
       "      <td>MI</td>\n",
       "      <td>bat</td>\n",
       "      <td>RCB</td>\n",
       "      <td>NaN</td>\n",
       "      <td>5.0</td>\n",
       "      <td>No</td>\n",
       "      <td>20</td>\n",
       "      <td>MV Boucher</td>\n",
       "      <td>Wankhede Stadium</td>\n",
       "      <td>MI</td>\n",
       "      <td>RCB</td>\n",
       "      <td>165.0</td>\n",
       "      <td>166.0</td>\n",
       "    </tr>\n",
       "  </tbody>\n",
       "</table>\n",
       "</div>"
      ],
      "text/plain": [
       "        date        city  season team1 team2 toss_winner toss_decision winner  \\\n",
       "0 2008-04-18   Bangalore    2008   RCB   KKR         RCB         field    KKR   \n",
       "1 2008-04-19  Chandigarh    2008  KXIP   CSK         CSK           bat    CSK   \n",
       "2 2008-04-19       Delhi    2008    DD    RR          RR           bat     DD   \n",
       "3 2008-04-20     Kolkata    2008   KKR   SRH         SRH           bat    KKR   \n",
       "4 2008-04-20      Mumbai    2008    MI   RCB          MI           bat    RCB   \n",
       "\n",
       "   win_by_runs  win_by_wickets dl_applied  overs player_of_match  \\\n",
       "0        140.0             NaN         No     20     BB McCullum   \n",
       "1         33.0             NaN         No     20      MEK Hussey   \n",
       "2          NaN             9.0         No     20     MF Maharoof   \n",
       "3          NaN             5.0         No     20       DJ Hussey   \n",
       "4          NaN             5.0         No     20      MV Boucher   \n",
       "\n",
       "                                        venue first_bat_team first_bowl_team  \\\n",
       "0                       M Chinnaswamy Stadium            KKR             RCB   \n",
       "1  Punjab Cricket Association Stadium, Mohali            CSK            KXIP   \n",
       "2                            Feroz Shah Kotla             RR              DD   \n",
       "3                                Eden Gardens            SRH             KKR   \n",
       "4                            Wankhede Stadium             MI             RCB   \n",
       "\n",
       "   first_bat_score  second_bat_score  \n",
       "0            222.0              82.0  \n",
       "1            240.0             207.0  \n",
       "2            129.0             132.0  \n",
       "3            110.0             112.0  \n",
       "4            165.0             166.0  "
      ]
     },
     "execution_count": 23,
     "metadata": {},
     "output_type": "execute_result"
    }
   ],
   "source": [
    "data1.head()"
   ]
  },
  {
   "cell_type": "code",
   "execution_count": 24,
   "metadata": {},
   "outputs": [
    {
     "data": {
      "image/png": "[encoded data removed]",
      "text/plain": [
       "<Figure size 432x288 with 1 Axes>"
      ]
     },
     "metadata": {},
     "output_type": "display_data"
    }
   ],
   "source": [
    "Toss={}\n",
    "\n",
    "Toss['Won']=data1[data1.toss_winner==data1.winner].groupby('winner')['winner'].count().sort_values(ascending=True).sum()/data1.count()['winner']\n",
    "Toss['Lost']=data1[data1.toss_winner!=data1.winner].groupby('winner')['winner'].count().sort_values(ascending=True).sum()/data1.count()['winner']\n",
    "\n",
    "Toss=pd.Series(Toss)\n",
    "labels=['Match_Won', 'Match_Lost']\n",
    "       \n",
    "        \n",
    "fig1, ax1 = plt.subplots()\n",
    "ax1.pie(Toss, labels=labels, autopct='%1.1f%%',\n",
    "        shadow=True, startangle=90)\n",
    "ax1.axis('equal')  # Equal aspect ratio ensures that pie is drawn as a circle.\n",
    "plt.title(\"Matches Won/Lost When Toss Won\", bbox={'facecolor':'0.7', 'pad':5})\n",
    "plt.show()\n",
    "\n",
    "\n",
    "\n",
    "\n"
   ]
  },
  {
   "cell_type": "code",
   "execution_count": 25,
   "metadata": {},
   "outputs": [
    {
     "data": {
      "image/png": "[encoded data removed]",
      "text/plain": [
       "<Figure size 432x288 with 1 Axes>"
      ]
     },
     "metadata": {
      "needs_background": "light"
     },
     "output_type": "display_data"
    }
   ],
   "source": [
    "\n",
    "\n",
    "Toss_Won_Per_Team=data1[data1.toss_winner==data1.winner].groupby('winner')['team1'].count().sort_values()\n",
    "#print(Toss_Won_Per_Team)\n",
    "#print(data1.toss_winner.value_counts())\n",
    "\n",
    "\n",
    "Matches_Won_Toss_Won_Per=Toss_Won_Per_Team/data1.toss_winner.value_counts()\n",
    "\n",
    "(Matches_Won_Toss_Won_Per*100).sort_values().plot(kind='barh',grid=True)\n",
    "\n",
    "plt.xlabel('Matches Won after winning the Toss')\n",
    "plt.ylabel('Teams')\n",
    "\n",
    "Toss_Winner_Per=(Matches_Won_Toss_Won_Per*100)"
   ]
  },
  {
   "cell_type": "code",
   "execution_count": 80,
   "metadata": {},
   "outputs": [
    {
     "data": {
      "text/plain": [
       "Text(0, 0.5, 'Succesful Teams Toss_Decisions Percentage')"
      ]
     },
     "execution_count": 80,
     "metadata": {},
     "output_type": "execute_result"
    },
    {
     "data": {
      "image/png": "[encoded data removed]",
      "text/plain": [
       "<Figure size 432x288 with 1 Axes>"
      ]
     },
     "metadata": {
      "needs_background": "light"
     },
     "output_type": "display_data"
    }
   ],
   "source": [
    "A=data1[(data1.toss_winner==data1.winner)].groupby('toss_decision').count()['winner']\n",
    "B=data1[(data1.toss_winner==data1.winner)].groupby('toss_decision').count().sum()['winner']\n",
    "((A/B)*100).plot(kind='bar',color='green')\n",
    "#data1[(data1.toss_winner!=data1.winner)].groupby('toss_decision').count()['winner']\n",
    "\n",
    "plt.ylabel('Succesful Teams Toss_Decisions Percentage')"
   ]
  },
  {
   "cell_type": "code",
   "execution_count": 79,
   "metadata": {},
   "outputs": [
    {
     "data": {
      "text/plain": [
       "357"
      ]
     },
     "execution_count": 79,
     "metadata": {},
     "output_type": "execute_result"
    },
    {
     "data": {
      "image/png": "[encoded data removed]",
      "text/plain": [
       "<Figure size 432x288 with 1 Axes>"
      ]
     },
     "metadata": {
      "needs_background": "light"
     },
     "output_type": "display_data"
    }
   ],
   "source": [
    "A=data1[(data1.toss_winner!=data1.winner)].groupby('toss_decision').count()['winner']\n",
    "B=data1[(data1.toss_winner!=data1.winner)].groupby('toss_decision').count().sum()['winner']\n",
    "((A/B)*100).plot(kind='bar',color='blue')\n",
    "#data1[(data1.toss_winner!=data1.winner)].groupby('toss_decision').count()['winner']\n",
    "\n",
    "plt.ylabel('UnSuccesful Teams Toss_Decisions Percentage')\n",
    "B"
   ]
  },
  {
   "cell_type": "code",
   "execution_count": 24,
   "metadata": {
    "scrolled": true
   },
   "outputs": [
    {
     "name": "stdout",
     "output_type": "stream",
     "text": [
      "count    132.000000\n",
      "mean     170.484848\n",
      "std       23.716353\n",
      "min      116.000000\n",
      "25%      156.750000\n",
      "50%      170.000000\n",
      "75%      184.000000\n",
      "max      246.000000\n",
      "Name: first_bat_score, dtype: float64\n",
      "count    253.000000\n",
      "mean     152.110672\n",
      "std       29.606741\n",
      "min       67.000000\n",
      "25%      135.000000\n",
      "50%      157.000000\n",
      "75%      175.000000\n",
      "max      214.000000\n",
      "Name: first_bat_score, dtype: float64\n",
      "count    156.000000\n",
      "mean     147.833333\n",
      "std       24.980465\n",
      "min       80.000000\n",
      "25%      131.750000\n",
      "50%      147.500000\n",
      "75%      163.250000\n",
      "max      205.000000\n",
      "Name: first_bat_score, dtype: float64\n",
      "count    201.000000\n",
      "mean     178.194030\n",
      "std       28.477661\n",
      "min      106.000000\n",
      "25%      161.000000\n",
      "50%      176.000000\n",
      "75%      197.000000\n",
      "max      263.000000\n",
      "Name: first_bat_score, dtype: float64\n"
     ]
    },
    {
     "data": {
      "image/png": "[encoded data removed]",
      "text/plain": [
       "<Figure size 576x504 with 4 Axes>"
      ]
     },
     "metadata": {
      "needs_background": "light"
     },
     "output_type": "display_data"
    }
   ],
   "source": [
    "\n",
    "\n",
    "plt.subplot(2,2,1)\n",
    "print(data1[((data1.toss_winner==data1.winner) & (data1.toss_decision=='bat'))]['first_bat_score'].describe())\n",
    "data1[((data1.toss_winner==data1.winner) & (data1.toss_decision=='bat'))]['first_bat_score'].plot(kind='box',figsize=(8,7))\n",
    "plt.title(\"Toss Win/Bat Match Won\", bbox={'facecolor':'0.7', 'pad':1})\n",
    "\n",
    "plt.subplot(2,2,2)\n",
    "print(data1[((data1.toss_winner==data1.winner) & (data1.toss_decision=='field'))]['first_bat_score'].describe())\n",
    "data1[((data1.toss_winner==data1.winner) &(data1.toss_decision=='field'))]['first_bat_score'].plot(kind='box',figsize=(8,7))\n",
    "plt.title(\"Toss Win/Field Match Won\", bbox={'facecolor':'0.7', 'pad':1})\n",
    "\n",
    "plt.subplot(2,2,3)\n",
    "print(data1[((data1.toss_winner!=data1.winner) & (data1.toss_decision=='bat'))]['first_bat_score'].describe())\n",
    "plt.title(\"Toss Lost/Bat Match Lost\", bbox={'facecolor':'0.7', 'pad':1})\n",
    "data1[((data1.toss_winner!=data1.winner) & (data1.toss_decision=='bat'))]['first_bat_score'].plot(kind='box',figsize=(8,7))\n",
    "\n",
    "plt.subplot(2,2,4)\n",
    "print(data1[((data1.toss_winner!=data1.winner) & (data1.toss_decision=='field'))]['first_bat_score'].describe())\n",
    "plt.title(\"Toss Lost/Field Match Lost\", bbox={'facecolor':'0.7', 'pad':1})\n",
    "data1[((data1.toss_winner!=data1.winner) &(data1.toss_decision=='field'))]['first_bat_score'].plot(kind='box',figsize=(8,7))\n",
    "\n",
    "\n",
    "plt.show()\n",
    "\n"
   ]
  },
  {
   "cell_type": "code",
   "execution_count": 99,
   "metadata": {
    "scrolled": true
   },
   "outputs": [
    {
     "data": {
      "image/png": "[encoded data removed]",
      "text/plain": [
       "<Figure size 720x288 with 2 Axes>"
      ]
     },
     "metadata": {
      "needs_background": "light"
     },
     "output_type": "display_data"
    }
   ],
   "source": [
    "plt.subplot(1,2,1)\n",
    "\n",
    "Tot_P_team=data1.winner.value_counts()\n",
    "k=(data1[(data1.first_bat_team==data1.winner)].groupby('winner').count()['team1'].sort_values())/(data1.groupby('winner').count()['team1'])\n",
    "\n",
    "(k*100).sort_values().plot(kind='barh',figsize=(10,4),grid=True,color='orange',stacked=True)\n",
    "data1.groupby('winner').count()['team1']\n",
    "plt.title(\"% of Matches won Batting first\", bbox={'facecolor':'0.7', 'pad':1})\n",
    "plt.subplot(1,2,2)\n",
    "l=data1[(data1.first_bowl_team==data1.winner)].groupby('winner').count()['team1'].sort_values()/(data1.groupby('winner').count()['team1'])\n",
    "(l*100).sort_values().plot(kind='barh',figsize=(10,4),grid=True,color='orange')\n",
    "plt.title(\"% of Matches won Chasing\", bbox={'facecolor':'0.7', 'pad':1})\n",
    "#data1[((data1.toss_winner=='Chennai Super Kings') & (data1.toss_decision=='bat'))]['first_bat_score']\n",
    "#plt.title(\"Toss Win/Bat Match Won\", bbox={'facecolor':'0.7', 'pad':1})\n",
    "#print(Tot_P_team)\n",
    "plt.show()\n",
    "\n",
    "matches_won_batting_first_per=k*100\n",
    "matches_won_chasing_per=l*100"
   ]
  },
  {
   "cell_type": "code",
   "execution_count": 115,
   "metadata": {},
   "outputs": [
    {
     "data": {
      "text/plain": [
       "<matplotlib.legend.Legend at 0x949eb1508>"
      ]
     },
     "execution_count": 115,
     "metadata": {},
     "output_type": "execute_result"
    },
    {
     "data": {
      "image/png": "[encoded data removed]",
      "text/plain": [
       "<Figure size 720x360 with 1 Axes>"
      ]
     },
     "metadata": {
      "needs_background": "light"
     },
     "output_type": "display_data"
    }
   ],
   "source": [
    "kl=pd.DataFrame({\"Batting_First\":k,\"Chasing\":l}).multiply(100)\n",
    "kl.plot(kind='bar',stacked=True,figsize=(10,5),grid=True,yticks=[25,50,75,100])\n",
    "plt.legend(loc='lower right')\n",
    "\n"
   ]
  },
  {
   "cell_type": "code",
   "execution_count": 26,
   "metadata": {},
   "outputs": [
    {
     "data": {
      "text/plain": [
       "<matplotlib.axes._subplots.AxesSubplot at 0xf9e5ee9d88>"
      ]
     },
     "execution_count": 26,
     "metadata": {},
     "output_type": "execute_result"
    },
    {
     "data": {
      "image/png": "[encoded data removed]",
      "text/plain": [
       "<Figure size 1440x432 with 1 Axes>"
      ]
     },
     "metadata": {
      "needs_background": "light"
     },
     "output_type": "display_data"
    }
   ],
   "source": [
    "#plt.subplot(2,1,1)\n",
    "#data1[(data1.toss_decision=='bat')].groupby('winner').count()['team1'].sort_values().plot(kind='barh',figsize=(8,8),grid=True)\n",
    "plt.figure(figsize=(20,6))\n",
    "sns.countplot(x='toss_decision',hue='toss_winner',data=data1.sort_values('team1'))\n",
    "#print(data1.groupby(['toss_decision']).count()['first_bat_team'] )\n",
    "#plt.title(\"Total Matches won Batting first\", bbox={'facecolor':'0.7', 'pad':1})\n",
    "#plt.subplot(2,1,2)\n",
    "#data1[(data1.toss_decision=='field')].groupby('winner').count()['team1'].sort_values().plot(kind='barh',figsize=(8,8),grid=True)\n",
    "#plt.title(\"Total Matches won Chasing\", bbox={'facecolor':'0.7', 'pad':1})"
   ]
  },
  {
   "cell_type": "code",
   "execution_count": 148,
   "metadata": {},
   "outputs": [
    {
     "data": {
      "image/png": "[encoded data removed]",
      "text/plain": [
       "<Figure size 720x360 with 2 Axes>"
      ]
     },
     "metadata": {
      "needs_background": "light"
     },
     "output_type": "display_data"
    },
    {
     "data": {
      "text/plain": [
       "count    742.000000\n",
       "mean     161.545822\n",
       "std       30.105705\n",
       "min       67.000000\n",
       "25%      142.000000\n",
       "50%      163.000000\n",
       "75%      182.000000\n",
       "max      263.000000\n",
       "Name: first_bat_score, dtype: float64"
      ]
     },
     "execution_count": 148,
     "metadata": {},
     "output_type": "execute_result"
    }
   ],
   "source": [
    "plt.figure(figsize=(20,10))\n",
    "plt.subplot(1,2,1)\n",
    "data1.first_bat_score.plot(kind='hist',color='green',figsize=(10,5))\n",
    "plt.xlabel('first_batting_Scores')\n",
    "plt.subplot(1,2,2)\n",
    "plt.boxplot(data1.first_bat_score,patch_artist=True)\n",
    "plt.ylabel('first_batting_Scores')\n",
    "plt.show()\n",
    "data1.first_bat_score.describe()\n"
   ]
  },
  {
   "cell_type": "code",
   "execution_count": 238,
   "metadata": {
    "scrolled": true
   },
   "outputs": [
    {
     "name": "stdout",
     "output_type": "stream",
     "text": [
      "winner\n",
      "CSK     176.941176\n",
      "DD      182.642857\n",
      "GL      172.000000\n",
      "KKR     172.352941\n",
      "KTK     144.000000\n",
      "KXIP    173.526316\n",
      "MI      175.928571\n",
      "PW      164.666667\n",
      "RCB     184.742857\n",
      "RPS     157.600000\n",
      "RR      177.206897\n",
      "SRH     167.416667\n",
      "Name: first_bat_score, dtype: float64\n"
     ]
    },
    {
     "data": {
      "image/png": "[encoded data removed]",
      "text/plain": [
       "<Figure size 720x504 with 2 Axes>"
      ]
     },
     "metadata": {
      "needs_background": "light"
     },
     "output_type": "display_data"
    }
   ],
   "source": [
    "plt.rc('ytick',labelsize=12)\n",
    "plt.rc('xtick',labelsize=12)\n",
    "\n",
    "plt.figure(figsize=(20,20))\n",
    "plt.subplot(2,1,1)\n",
    "test=data1[(data1.winner==data1.first_bat_team)].groupby(['winner'])['first_bat_score'].agg('mean')\n",
    "print(test)\n",
    "test.sort_values().plot(kind='bar',grid=True,figsize=(10,7),color='green')\n",
    "plt.title(\"Average Winning  first innings Score per Team Batting First\", bbox={'facecolor':'0.7', 'pad':3})\n",
    "plt.xlabel('Average Score')\n",
    "\n",
    "\n",
    "plt.subplot(2,1,2)\n",
    "test=data1[(data1.winner==data1.first_bowl_team)].groupby(['winner'])['first_bat_score'].agg('mean')\n",
    "#print(test)\n",
    "test.sort_values().plot(kind='bar',grid=True,figsize=(10,7),color='green')\n",
    "plt.title(\"Average Winning first innnings Chasing Score per Team\", bbox={'facecolor':'0.7', 'pad':3})\n",
    "plt.xlabel('Average Score')\n",
    "\n",
    "plt.tight_layout()\n",
    "plt.show()"
   ]
  },
  {
   "cell_type": "code",
   "execution_count": 236,
   "metadata": {
    "scrolled": true
   },
   "outputs": [
    {
     "data": {
      "text/plain": [
       "season\n",
       "2009    150.263158\n",
       "2011    153.708333\n",
       "2013    155.894737\n",
       "2012    157.540541\n",
       "2008    160.965517\n",
       "2016    162.600000\n",
       "2014    163.066667\n",
       "2010    164.783333\n",
       "2015    165.298246\n",
       "2017    165.779661\n",
       "2019    171.734694\n",
       "2018    172.466667\n",
       "Name: first_bat_score, dtype: float64"
      ]
     },
     "execution_count": 236,
     "metadata": {},
     "output_type": "execute_result"
    },
    {
     "data": {
      "image/png": "[encoded data removed]",
      "text/plain": [
       "<Figure size 720x288 with 2 Axes>"
      ]
     },
     "metadata": {
      "needs_background": "light"
     },
     "output_type": "display_data"
    },
    {
     "data": {
      "image/png": "[encoded data removed]",
      "text/plain": [
       "<Figure size 1080x1080 with 2 Axes>"
      ]
     },
     "metadata": {
      "needs_background": "light"
     },
     "output_type": "display_data"
    }
   ],
   "source": [
    "Avg_Per_team_per_season= pd.pivot_table(data1,values=['first_bat_score'],index=['first_bat_team'],columns=['season'],aggfunc='mean',margins=False)\n",
    "#Avg_Per_team_Per_season\n",
    "\n",
    "#data1.groupby('first_bat_team')['first_bat_score'].agg('mean')\n",
    "\n",
    "plt.subplot(1,2,1)\n",
    "plt.title('Avg Score Batting first Per Season',bbox={'facecolor':'0.7', 'pad':3})\n",
    "Avg_first_bat_score_per_season=data1.groupby('season')['first_bat_score'].agg('mean').sort_values().plot(kind='barh',grid=True,figsize=(10,4))\n",
    "#print(Avg_first_bat_score_per_season)\n",
    "plt.subplot(1,2,2)\n",
    "plt.title('Avg Score Batting first Per Team',bbox={'facecolor':'0.7', 'pad':3})\n",
    "Avg_first_bat_score_per_Team=data1.groupby('team1')['first_bat_score'].agg('mean').sort_values().plot(kind='barh',grid=True,figsize=(10,4))\n",
    "#print(Avg_first_bat_score_per_Team)\n",
    "\n",
    "plt.figure(figsize=(15,15))\n",
    "sns.heatmap(Avg_Per_team_per_season['first_bat_score'],fmt='0.1f',linewidths=.5,annot=True,vmin=120,vmax=205,cmap='YlOrRd')\n",
    "plt.title('Avg Score Batting first Per Season_Per Team',bbox={'facecolor':'0.7', 'pad':3})\n",
    "\n"
   ]
  },
  {
   "cell_type": "code",
   "execution_count": 153,
   "metadata": {
    "scrolled": true
   },
   "outputs": [
    {
     "name": "stdout",
     "output_type": "stream",
     "text": [
      "CSK     64.367816\n",
      "DD      46.590909\n",
      "GL      66.666667\n",
      "KKR     57.142857\n",
      "KTK     50.000000\n",
      "KXIP    42.500000\n",
      "MI      55.789474\n",
      "PW      15.000000\n",
      "RCB     50.632911\n",
      "RPS     61.538462\n",
      "RR      54.545455\n",
      "SRH     47.191011\n",
      "Name: team1, dtype: float64\n",
      "CSK     49.425287\n",
      "DD      38.636364\n",
      "GL      20.000000\n",
      "KKR     42.857143\n",
      "KTK     25.000000\n",
      "KXIP    58.750000\n",
      "MI      54.736842\n",
      "PW      45.000000\n",
      "RCB     54.430380\n",
      "RPS     53.846154\n",
      "RR      42.857143\n",
      "SRH     50.561798\n",
      "Name: team1, dtype: float64\n"
     ]
    },
    {
     "data": {
      "image/png": "[encoded data removed]",
      "text/plain": [
       "<Figure size 720x720 with 2 Axes>"
      ]
     },
     "metadata": {
      "needs_background": "light"
     },
     "output_type": "display_data"
    }
   ],
   "source": [
    "data1.head()\n",
    "#A=data1.groupby(['toss_winner','city','winner']).count()['team1'].sort_values(ascending=False)\n",
    "#print(A)\n",
    "#B=data1.groupby(['toss_winner','city']).count()['team1'].sort_values(ascending=False)\n",
    "#print(B)\n",
    "#(A/B)[300:359]\n",
    "\n",
    "M=data1[data1.toss_winner==data1.winner].groupby('winner').count()['team1'].sort_values()\n",
    "N=data1.groupby('toss_winner').count()['team1'].sort_values()\n",
    "#print(M)\n",
    "\n",
    "#Most Succesful Team on Winning the Toss\n",
    "plt.subplot(2,1,1)\n",
    "X=M/N\n",
    "print(X*100)\n",
    "(X*100).sort_values().plot(kind='barh',figsize=(10,10))\n",
    "plt.title('Most Successful Team on winning the Toss')\n",
    "\n",
    "plt.subplot(2,1,2)\n",
    "O=data1[data1.toss_winner!=data1.winner].groupby('winner').count()['team1'].sort_values()\n",
    "Y=O/N\n",
    "print(Y*100)\n",
    "(Y*100).sort_values().plot(kind='barh',figsize=(10,10))\n",
    "plt.title('Most Successful Team on Losing the Toss')\n",
    "\n",
    "Toss_loser_Per=Y*100\n",
    "\n"
   ]
  },
  {
   "cell_type": "code",
   "execution_count": 154,
   "metadata": {},
   "outputs": [
    {
     "name": "stdout",
     "output_type": "stream",
     "text": [
      "<class 'pandas.core.frame.DataFrame'>\n",
      "RangeIndex: 179078 entries, 0 to 179077\n",
      "Data columns (total 21 columns):\n",
      " #   Column            Non-Null Count   Dtype \n",
      "---  ------            --------------   ----- \n",
      " 0   match_id          179078 non-null  int64 \n",
      " 1   inning            179078 non-null  int64 \n",
      " 2   batting_team      179078 non-null  object\n",
      " 3   bowling_team      179078 non-null  object\n",
      " 4   over              179078 non-null  int64 \n",
      " 5   ball              179078 non-null  int64 \n",
      " 6   batsman           179078 non-null  object\n",
      " 7   non_striker       179078 non-null  object\n",
      " 8   bowler            179078 non-null  object\n",
      " 9   is_super_over     179078 non-null  int64 \n",
      " 10  wide_runs         179078 non-null  int64 \n",
      " 11  bye_runs          179078 non-null  int64 \n",
      " 12  legbye_runs       179078 non-null  int64 \n",
      " 13  noball_runs       179078 non-null  int64 \n",
      " 14  penalty_runs      179078 non-null  int64 \n",
      " 15  batsman_runs      179078 non-null  int64 \n",
      " 16  extra_runs        179078 non-null  int64 \n",
      " 17  total_runs        179078 non-null  int64 \n",
      " 18  player_dismissed  8834 non-null    object\n",
      " 19  dismissal_kind    8834 non-null    object\n",
      " 20  fielder           6448 non-null    object\n",
      "dtypes: int64(13), object(8)\n",
      "memory usage: 28.7+ MB\n",
      "batsman\n",
      "V Kohli       4211\n",
      "SK Raina      4044\n",
      "RG Sharma     3816\n",
      "S Dhawan      3776\n",
      "G Gambhir     3524\n",
      "RV Uthappa    3492\n",
      "DA Warner     3398\n",
      "MS Dhoni      3318\n",
      "AM Rahane     3215\n",
      "CH Gayle      3131\n",
      "Name: batsman_runs, dtype: int64\n"
     ]
    }
   ],
   "source": [
    "deliveries=pd.read_csv('deliveries.csv')\n",
    "deliveries.info()\n",
    "deliveries.replace('Rising Pune Supergiant','Rising Pune Supergiants',inplace=True)\n",
    "deliveries.replace('Delhi Capitals','Delhi Daredevils',inplace=True)\n",
    "deliveries.replace('Deccan Chargers','Sunrisers Hyderabad',inplace=True)\n",
    "deliveries.replace(to_replace =['Delhi Daredevils', 'Sunrisers Hyderabad','Royal Challengers Bangalore','Chennai Super Kings','Mumbai Indians','Kolkata Knight Riders','Kings XI Punjab','Rajasthan Royals','Rising Pune Supergiants','Gujarat Lions','Pune Warriors','Kochi Tuskers Kerala']\n",
    "                            ,value =['DD','SRH','RCB','CSK','MI','KKR','KXIP','RR','RPS','GL','PW','KTK'],inplace=True) \n",
    "\n",
    "print(deliveries.groupby('batsman').count()['batsman_runs'].sort_values(ascending=False)[:10])\n",
    "#print(deliveries.groupby('fielder').count()['batsman'].sort_values(ascending=False)[:10])"
   ]
  },
  {
   "cell_type": "code",
   "execution_count": 234,
   "metadata": {
    "scrolled": true
   },
   "outputs": [
    {
     "data": {
      "image/png": "[encoded data removed]",
      "text/plain": [
       "<Figure size 432x288 with 1 Axes>"
      ]
     },
     "metadata": {
      "needs_background": "light"
     },
     "output_type": "display_data"
    }
   ],
   "source": [
    "#Using frequentist Inference to find the mean first_innings_Batting_Winning score\n",
    "\n",
    "first_batting_score=data1[(data1.winner==data1.toss_winner) & (data1.toss_decision=='bat')]['first_bat_score']\n",
    "first_bat_mean_distribution=[np.mean(np.random.choice(first_batting_score,50)) for i in range(10000)]\n",
    "_ = plt.hist(first_bat_mean_distribution,histtype='step',bins=30)\n",
    "_ = plt.xlabel('First_batting_Innings_totals')\n",
    "_ = plt.ylabel('number of simulations')\n",
    "_ = plt.title('Distribution of First innings winning score means over sample size 50')\n",
    "\n",
    "critical_value = norm.ppf(0.975)\n",
    "# Calculating Standard error\n",
    "standard_error = (first_batting_score.std()) / np.sqrt(len(first_batting_score))\n",
    "\n",
    "# Calculating margin of error using z critical value\n",
    "ME_95 = critical_value * standard_error\n",
    "\n",
    "Confid_Inter_95=(first_batting_score.mean()-ME_95,first_batting_score.mean()+ME_95)\n",
    "\n",
    "\n",
    "plt.fill_betweenx([0, 1000], Confid_Inter_95[0], Confid_Inter_95[1], color='r', alpha=0.3)  # Mark between 0 and the highest bar in the histogram\n",
    "plt.show()\n"
   ]
  },
  {
   "cell_type": "code",
   "execution_count": 235,
   "metadata": {},
   "outputs": [
    {
     "data": {
      "text/plain": [
       "(166.43900536980695, 174.53069159989005)"
      ]
     },
     "execution_count": 235,
     "metadata": {},
     "output_type": "execute_result"
    }
   ],
   "source": [
    "Confid_Inter_95"
   ]
  },
  {
   "cell_type": "code",
   "execution_count": 157,
   "metadata": {},
   "outputs": [
    {
     "data": {
      "text/plain": [
       "array([166.55284091, 174.58333333])"
      ]
     },
     "execution_count": 157,
     "metadata": {},
     "output_type": "execute_result"
    }
   ],
   "source": [
    "#Using Bootstrap Inference to find the mean first_innings_Batting_Winning score\n",
    "np.random.seed(47)\n",
    "N_rep = 10000\n",
    "\n",
    "\n",
    "def bootstrap_replicate_1d(data, func):\n",
    "    \"\"\"Generate bootstrap replicate of 1D data.\"\"\"\n",
    "    bs_sample = np.random.choice(data, len(data))\n",
    "    return func(bs_sample)\n",
    "def draw_bs_reps(data, func, size=1):\n",
    "    \"\"\"Draw bootstrap replicates.\"\"\"\n",
    "\n",
    "    # Initialize array of replicates: bs_replicates\n",
    "    bs_replicates = np.empty(size)\n",
    "\n",
    "    # Generate replicates\n",
    "    for i in range(size):\n",
    "        bs_replicates[i] = bootstrap_replicate_1d(data,func)\n",
    "\n",
    "    return bs_replicates\n",
    "\n",
    "sample_charges=draw_bs_reps(first_batting_score,np.mean,N_rep)\n",
    "#finding Confidence Interval of Sample charges \n",
    "Confid_Int_95=np.percentile(sample_charges,[2.5,97.5])\n",
    "Confid_Int_95\n"
   ]
  },
  {
   "cell_type": "code",
   "execution_count": 245,
   "metadata": {},
   "outputs": [
    {
     "data": {
      "image/png": "[encoded data removed]",
      "text/plain": [
       "<Figure size 432x288 with 1 Axes>"
      ]
     },
     "metadata": {
      "needs_background": "light"
     },
     "output_type": "display_data"
    }
   ],
   "source": [
    "Total_Deliveries_Percentage_of_runs_scored=(deliveries.groupby(['batsman_runs']).count()['penalty_runs']/deliveries.groupby(['batsman_runs']).count()['penalty_runs'].sum())*100\n",
    "\n",
    "Total_Deliveries_Percentage_of_runs_scored.plot(kind='barh',grid=True,color='yellow')\n",
    "\n",
    "\n",
    "#sns.countplot(x='batsman_runs',data=deliveries)\n",
    "#Total_Deliveries_Percentage_of_runs_scored.plot(kind='bar')\n",
    "plt.xlabel('runs_scored')\n",
    "plt.ylabel('Percentage of total Scores per ball')\n",
    "\n",
    "#ax.annotate('local max', xy=(3, 1),  xycoords='data',xytext=(0.8, 0.95), textcoords='axes fraction',arrowprops=dict(facecolor='black', shrink=0.05),horizontalalignment='right', verticalalignment='top',)\n",
    "\n",
    "plt.show()\n",
    "#As per bellow, Approx 40% of the Total balls bowled uptill now are Dot balls.\n",
    "\n",
    "#Only Aprrox 16% of the Total balls have been hit for a Boundary(6+4) \n",
    "#Every 6th Ball is hit for a Boundary\n"
   ]
  },
  {
   "cell_type": "code",
   "execution_count": 244,
   "metadata": {},
   "outputs": [
    {
     "name": "stdout",
     "output_type": "stream",
     "text": [
      "batting_team\n",
      "MI      12.898256\n",
      "RCB     12.226035\n",
      "KXIP    12.022968\n",
      "KKR     11.777887\n",
      "SRH     11.672852\n",
      "DD      11.511799\n",
      "CSK     11.084658\n",
      "RR       9.509138\n",
      "PW       2.524333\n",
      "GL       2.153211\n",
      "RPS      1.838107\n",
      "KTK      0.780758\n",
      "Name: bowling_team, dtype: float64\n"
     ]
    },
    {
     "data": {
      "text/plain": [
       "Text(0.5, 1.0, 'Percentage of Boundaries hit Per team')"
      ]
     },
     "execution_count": 244,
     "metadata": {},
     "output_type": "execute_result"
    },
    {
     "data": {
      "image/png": "[encoded data removed]",
      "text/plain": [
       "<Figure size 432x288 with 1 Axes>"
      ]
     },
     "metadata": {
      "needs_background": "light"
     },
     "output_type": "display_data"
    }
   ],
   "source": [
    "#Percentage of Boundaries_Hit\n",
    "\n",
    "df=deliveries[(deliveries['batsman_runs']==6) | (deliveries['batsman_runs']==4)]\n",
    "df_sum=df.count()\n",
    "#print(df_sum)\n",
    "Bound_Percentage=((df.groupby('batting_team').count()['bowling_team'].sort_values(ascending=False)/df.groupby('batting_team').count()['bowling_team'].sort_values().sum())*100)#.plot(kind='barh',grid=True)\n",
    "\n",
    "Bound_Percentage.plot(kind='bar',grid=True,color='green')\n",
    "print(Bound_Percentage.sort_values(ascending=False))\n",
    "plt.title(\"Percentage of Boundaries hit Per team\")\n",
    "#plt.xlabel('Total no of Boundaries Hit by each over the IPL')\n"
   ]
  },
  {
   "cell_type": "code",
   "execution_count": 36,
   "metadata": {
    "scrolled": true
   },
   "outputs": [
    {
     "name": "stdout",
     "output_type": "stream",
     "text": [
      "-0.29423320887465226\n"
     ]
    },
    {
     "data": {
      "image/png": "[encoded data removed]",
      "text/plain": [
       "<Figure size 720x360 with 1 Axes>"
      ]
     },
     "metadata": {
      "needs_background": "light"
     },
     "output_type": "display_data"
    }
   ],
   "source": [
    "#deliveries.info()\n",
    "#data1.info()\n",
    "'''\n",
    "Toss\n",
    "Venue(Home/Away)\n",
    "First_innings_score\n",
    "\n",
    "\n",
    "'''\n",
    "\n",
    "data1.plot(kind='scatter',x='first_bat_score',y='win_by_wickets',figsize=(10,5),alpha=0.7)\n",
    "print(data1['first_bat_score'].corr(data1['win_by_wickets']))\n",
    "\n",
    "\n",
    "#Negative Correlation of -029 Shows as the First innings score increases, team lose more wickets and win by_wickets decreases.\n",
    "\n",
    "\n",
    "\n",
    "\n",
    "\n",
    "\n"
   ]
  },
  {
   "cell_type": "code",
   "execution_count": 37,
   "metadata": {},
   "outputs": [
    {
     "name": "stdout",
     "output_type": "stream",
     "text": [
      "0.41622082102453495\n"
     ]
    },
    {
     "data": {
      "image/png": "[encoded data removed]",
      "text/plain": [
       "<Figure size 720x360 with 1 Axes>"
      ]
     },
     "metadata": {
      "needs_background": "light"
     },
     "output_type": "display_data"
    }
   ],
   "source": [
    "data1.plot(kind='scatter',x='first_bat_score',y='win_by_runs',figsize=(10,5),color='green')\n",
    "\n",
    "\n",
    "print(data1['first_bat_score'].corr(data1['win_by_runs']))\n",
    "\n",
    "#Positive Correlation of 0.41 shows as the Team score higher first innings scores the margin(win_by_runs) of winning also increases\n",
    "# Print the result\n",
    "\n"
   ]
  },
  {
   "cell_type": "code",
   "execution_count": 202,
   "metadata": {},
   "outputs": [
    {
     "data": {
      "image/png": "[encoded data removed]",
      "text/plain": [
       "<Figure size 720x720 with 1 Axes>"
      ]
     },
     "metadata": {
      "needs_background": "light"
     },
     "output_type": "display_data"
    }
   ],
   "source": [
    "\n",
    "\n",
    "deliveries['dismissal_kind'].value_counts().plot(kind='bar',figsize=(10,10),yticks=np.arange(0,6000,500),color='green')\n",
    "plt.legend()\n",
    "plt.tight_layout()\n",
    "#deliveries.groupby(['dismissal_kind','player_dismissed']).count()['inning'].sort_values(ascending=False)"
   ]
  },
  {
   "cell_type": "code",
   "execution_count": 181,
   "metadata": {},
   "outputs": [
    {
     "name": "stdout",
     "output_type": "stream",
     "text": [
      "    Team  Total_Boundaries_Scored  Total_Matches_Won\n",
      "7     PW                 3.600955          26.666667\n",
      "4    KTK                 3.350190          42.857143\n",
      "2     GL                 4.346607          43.333333\n",
      "1     DD                 4.290892          43.604651\n",
      "5   KXIP                 4.662940          46.551724\n",
      "8    RCB                 5.414196          47.159091\n",
      "11   SRH                 4.252119          48.333333\n",
      "9    RPS                 4.511494          50.000000\n",
      "3    KKR                 4.458721          51.704545\n",
      "10    RR                 3.938237          52.083333\n",
      "6     MI                 4.845484          57.377049\n",
      "0    CSK                 4.923591          61.875000\n",
      "0.5810993621700725\n"
     ]
    },
    {
     "data": {
      "image/png": "[encoded data removed]",
      "text/plain": [
       "<Figure size 432x288 with 1 Axes>"
      ]
     },
     "metadata": {
      "needs_background": "light"
     },
     "output_type": "display_data"
    }
   ],
   "source": [
    "\n",
    "df=deliveries[(deliveries['batsman_runs']==6)]\n",
    "total_balls_faced=deliveries.groupby('batting_team').count()['batsman']\n",
    "#print(total_balls_faced)\n",
    "df1=df.groupby('batting_team').count()['inning'].sort_values()/total_balls_faced\n",
    "\n",
    "total_matches_played=data1.groupby('team1').count()['team2'].sort_values().add(data1.groupby('team2').count()['team1'].sort_values())\n",
    "df2=data1.groupby(['winner']).count()['team1'].sort_values()/total_matches_played\n",
    "#print(total_matches_played)\n",
    "\n",
    "kd=pd.concat([df1*100,df2*100],axis=1).reset_index().dropna()\n",
    "kd.columns=['Team','Total_Boundaries_Scored','Total_Matches_Won']\n",
    "kd.set_index('Team')\n",
    "print(kd.sort_values(by=['Total_Matches_Won']))\n",
    "\n",
    "\n",
    "\n",
    "kd.plot(kind='scatter',x='Total_Boundaries_Scored',y='Total_Matches_Won')\n",
    "r=kd['Total_Boundaries_Scored'].corr(kd['Total_Matches_Won'])\n",
    "\n",
    "print(r)\n",
    "plt.xlabel('Percentage of Total_Boundaries Scored per team out of the Total balls faced')\n",
    "plt.ylabel('Percentage of Matches Won out of Total matches played')\n",
    "#50% - Moderate Correlation of Most Boundaries  hitting Team hit wins most no of matches\n",
    "plt.show()"
   ]
  },
  {
   "cell_type": "code",
   "execution_count": 40,
   "metadata": {},
   "outputs": [
    {
     "data": {
      "text/html": [
       "<div>\n",
       "<style scoped>\n",
       "    .dataframe tbody tr th:only-of-type {\n",
       "        vertical-align: middle;\n",
       "    }\n",
       "\n",
       "    .dataframe tbody tr th {\n",
       "        vertical-align: top;\n",
       "    }\n",
       "\n",
       "    .dataframe thead th {\n",
       "        text-align: right;\n",
       "    }\n",
       "</style>\n",
       "<table border=\"1\" class=\"dataframe\">\n",
       "  <thead>\n",
       "    <tr style=\"text-align: right;\">\n",
       "      <th></th>\n",
       "      <th>date</th>\n",
       "      <th>city</th>\n",
       "      <th>season</th>\n",
       "      <th>team1</th>\n",
       "      <th>team2</th>\n",
       "      <th>toss_winner</th>\n",
       "      <th>toss_decision</th>\n",
       "      <th>winner</th>\n",
       "      <th>win_by_runs</th>\n",
       "      <th>win_by_wickets</th>\n",
       "      <th>dl_applied</th>\n",
       "      <th>overs</th>\n",
       "      <th>player_of_match</th>\n",
       "      <th>venue</th>\n",
       "      <th>first_bat_team</th>\n",
       "      <th>first_bowl_team</th>\n",
       "      <th>first_bat_score</th>\n",
       "      <th>second_bat_score</th>\n",
       "    </tr>\n",
       "  </thead>\n",
       "  <tbody>\n",
       "    <tr>\n",
       "      <th>0</th>\n",
       "      <td>2008-04-18</td>\n",
       "      <td>Bangalore</td>\n",
       "      <td>2008</td>\n",
       "      <td>RCB</td>\n",
       "      <td>KKR</td>\n",
       "      <td>RCB</td>\n",
       "      <td>field</td>\n",
       "      <td>KKR</td>\n",
       "      <td>140.0</td>\n",
       "      <td>NaN</td>\n",
       "      <td>No</td>\n",
       "      <td>20</td>\n",
       "      <td>BB McCullum</td>\n",
       "      <td>M Chinnaswamy Stadium</td>\n",
       "      <td>KKR</td>\n",
       "      <td>RCB</td>\n",
       "      <td>222.0</td>\n",
       "      <td>82.0</td>\n",
       "    </tr>\n",
       "    <tr>\n",
       "      <th>1</th>\n",
       "      <td>2008-04-19</td>\n",
       "      <td>Chandigarh</td>\n",
       "      <td>2008</td>\n",
       "      <td>KXIP</td>\n",
       "      <td>CSK</td>\n",
       "      <td>CSK</td>\n",
       "      <td>bat</td>\n",
       "      <td>CSK</td>\n",
       "      <td>33.0</td>\n",
       "      <td>NaN</td>\n",
       "      <td>No</td>\n",
       "      <td>20</td>\n",
       "      <td>MEK Hussey</td>\n",
       "      <td>Punjab Cricket Association Stadium, Mohali</td>\n",
       "      <td>CSK</td>\n",
       "      <td>KXIP</td>\n",
       "      <td>240.0</td>\n",
       "      <td>207.0</td>\n",
       "    </tr>\n",
       "    <tr>\n",
       "      <th>2</th>\n",
       "      <td>2008-04-19</td>\n",
       "      <td>Delhi</td>\n",
       "      <td>2008</td>\n",
       "      <td>DD</td>\n",
       "      <td>RR</td>\n",
       "      <td>RR</td>\n",
       "      <td>bat</td>\n",
       "      <td>DD</td>\n",
       "      <td>NaN</td>\n",
       "      <td>9.0</td>\n",
       "      <td>No</td>\n",
       "      <td>20</td>\n",
       "      <td>MF Maharoof</td>\n",
       "      <td>Feroz Shah Kotla</td>\n",
       "      <td>RR</td>\n",
       "      <td>DD</td>\n",
       "      <td>129.0</td>\n",
       "      <td>132.0</td>\n",
       "    </tr>\n",
       "    <tr>\n",
       "      <th>3</th>\n",
       "      <td>2008-04-20</td>\n",
       "      <td>Kolkata</td>\n",
       "      <td>2008</td>\n",
       "      <td>KKR</td>\n",
       "      <td>SRH</td>\n",
       "      <td>SRH</td>\n",
       "      <td>bat</td>\n",
       "      <td>KKR</td>\n",
       "      <td>NaN</td>\n",
       "      <td>5.0</td>\n",
       "      <td>No</td>\n",
       "      <td>20</td>\n",
       "      <td>DJ Hussey</td>\n",
       "      <td>Eden Gardens</td>\n",
       "      <td>SRH</td>\n",
       "      <td>KKR</td>\n",
       "      <td>110.0</td>\n",
       "      <td>112.0</td>\n",
       "    </tr>\n",
       "    <tr>\n",
       "      <th>4</th>\n",
       "      <td>2008-04-20</td>\n",
       "      <td>Mumbai</td>\n",
       "      <td>2008</td>\n",
       "      <td>MI</td>\n",
       "      <td>RCB</td>\n",
       "      <td>MI</td>\n",
       "      <td>bat</td>\n",
       "      <td>RCB</td>\n",
       "      <td>NaN</td>\n",
       "      <td>5.0</td>\n",
       "      <td>No</td>\n",
       "      <td>20</td>\n",
       "      <td>MV Boucher</td>\n",
       "      <td>Wankhede Stadium</td>\n",
       "      <td>MI</td>\n",
       "      <td>RCB</td>\n",
       "      <td>165.0</td>\n",
       "      <td>166.0</td>\n",
       "    </tr>\n",
       "  </tbody>\n",
       "</table>\n",
       "</div>"
      ],
      "text/plain": [
       "        date        city  season team1 team2 toss_winner toss_decision winner  \\\n",
       "0 2008-04-18   Bangalore    2008   RCB   KKR         RCB         field    KKR   \n",
       "1 2008-04-19  Chandigarh    2008  KXIP   CSK         CSK           bat    CSK   \n",
       "2 2008-04-19       Delhi    2008    DD    RR          RR           bat     DD   \n",
       "3 2008-04-20     Kolkata    2008   KKR   SRH         SRH           bat    KKR   \n",
       "4 2008-04-20      Mumbai    2008    MI   RCB          MI           bat    RCB   \n",
       "\n",
       "   win_by_runs  win_by_wickets dl_applied  overs player_of_match  \\\n",
       "0        140.0             NaN         No     20     BB McCullum   \n",
       "1         33.0             NaN         No     20      MEK Hussey   \n",
       "2          NaN             9.0         No     20     MF Maharoof   \n",
       "3          NaN             5.0         No     20       DJ Hussey   \n",
       "4          NaN             5.0         No     20      MV Boucher   \n",
       "\n",
       "                                        venue first_bat_team first_bowl_team  \\\n",
       "0                       M Chinnaswamy Stadium            KKR             RCB   \n",
       "1  Punjab Cricket Association Stadium, Mohali            CSK            KXIP   \n",
       "2                            Feroz Shah Kotla             RR              DD   \n",
       "3                                Eden Gardens            SRH             KKR   \n",
       "4                            Wankhede Stadium             MI             RCB   \n",
       "\n",
       "   first_bat_score  second_bat_score  \n",
       "0            222.0              82.0  \n",
       "1            240.0             207.0  \n",
       "2            129.0             132.0  \n",
       "3            110.0             112.0  \n",
       "4            165.0             166.0  "
      ]
     },
     "execution_count": 40,
     "metadata": {},
     "output_type": "execute_result"
    }
   ],
   "source": [
    "data1.head()"
   ]
  },
  {
   "cell_type": "code",
   "execution_count": 182,
   "metadata": {
    "scrolled": true
   },
   "outputs": [
    {
     "data": {
      "image/png": "[encoded data removed]",
      "text/plain": [
       "<Figure size 1440x720 with 7 Axes>"
      ]
     },
     "metadata": {
      "needs_background": "light"
     },
     "output_type": "display_data"
    }
   ],
   "source": [
    "data1['weekday']=data1['date'].dt.dayofweek\n",
    "weekday={0:'Mon',1:'Tue',2:'Wed',3:'Thu',4:'Fri',5:'Sat',6:'Sun'}\n",
    "data1['weekday']=data1['weekday'].map(weekday)\n",
    "data1.tail()\n",
    "\n",
    "plt.figure(figsize=(20,10))\n",
    "x=0\n",
    "for team in data1.weekday.unique():\n",
    "    x=x+1\n",
    "    plt.subplot(3,4,x)\n",
    "    sns.countplot(x='winner',hue='weekday',data=data1[data1.weekday==team])\n",
    "    plt.yticks(np.arange(0,30,5))\n",
    "    plt.legend(loc='upper right')\n",
    "#plt.yticks(np.arange(0,25,4))\n",
    "plt.show()\n"
   ]
  },
  {
   "cell_type": "markdown",
   "metadata": {},
   "source": [
    "_#The Bar plot shows for every match held over the weekend shows that Each team have a higher chance of winning if the match is held on a weekend. It may be also be the case that more matches are held on Fri and sat. Let us check"
   ]
  },
  {
   "cell_type": "code",
   "execution_count": 42,
   "metadata": {},
   "outputs": [],
   "source": [
    "#Gives the Info If a Match i won by the Home Team\n",
    "Team=['Bangalore','Chennai','Hyderabad','Mumbai','Kolkata','Chandigarh','Delhi','Jaipur','Pune']\n",
    "data1['Home_Winner']=(data1.winner==data1.team1)\n",
    "\n"
   ]
  },
  {
   "cell_type": "code",
   "execution_count": 43,
   "metadata": {},
   "outputs": [],
   "source": [
    "#Rank = 1*Overall_Percentage + 0.75*winning_percentage_home +1.25*winning_percentage_away + 1*Toss_Winner_Per+ 1.5*Toss_loser_Per + 1*matches_won_batting_first_per + 1*matches_won_chasing_per"
   ]
  },
  {
   "cell_type": "code",
   "execution_count": 44,
   "metadata": {},
   "outputs": [
    {
     "data": {
      "text/plain": [
       "CSK     0.850329\n",
       "MI      0.817237\n",
       "RPS     0.784376\n",
       "RR      0.754781\n",
       "KKR     0.750228\n",
       "RCB     0.746856\n",
       "KXIP    0.743242\n",
       "SRH     0.736980\n",
       "DD      0.670650\n",
       "GL      0.650000\n",
       "KTK     0.631825\n",
       "PW      0.524799\n",
       "dtype: float64"
      ]
     },
     "execution_count": 44,
     "metadata": {},
     "output_type": "execute_result"
    }
   ],
   "source": [
    "Rank={}\n",
    "for i in ['CSK','MI','SRH','DD','KKR','KXIP','RR','RCB','GL','PW','RPS','KTK']:\n",
    "    Rank[i]=1*Overall_Percentage[i] + 0.75*winning_percentage_home[i] +1.25*winning_percentage_away[i] + 1*Toss_Winner_Per[i]+ 1.5*Toss_loser_Per[i] + 1*matches_won_batting_first_per[i] + 1*matches_won_chasing_per[i]\n",
    "    #print(Rank[i])\n",
    "    \n",
    "Rank_Sr=pd.Series(Rank)\n",
    "\n",
    "Rank_Sr=Rank_Sr/500\n",
    "Rank_Sr.sort_values(axis=0,ascending=False)\n"
   ]
  },
  {
   "cell_type": "code",
   "execution_count": 45,
   "metadata": {},
   "outputs": [
    {
     "data": {
      "text/html": [
       "<div>\n",
       "<style scoped>\n",
       "    .dataframe tbody tr th:only-of-type {\n",
       "        vertical-align: middle;\n",
       "    }\n",
       "\n",
       "    .dataframe tbody tr th {\n",
       "        vertical-align: top;\n",
       "    }\n",
       "\n",
       "    .dataframe thead th {\n",
       "        text-align: right;\n",
       "    }\n",
       "</style>\n",
       "<table border=\"1\" class=\"dataframe\">\n",
       "  <thead>\n",
       "    <tr style=\"text-align: right;\">\n",
       "      <th></th>\n",
       "      <th>date</th>\n",
       "      <th>city</th>\n",
       "      <th>season</th>\n",
       "      <th>team1</th>\n",
       "      <th>team2</th>\n",
       "      <th>toss_winner</th>\n",
       "      <th>toss_decision</th>\n",
       "      <th>winner</th>\n",
       "      <th>win_by_runs</th>\n",
       "      <th>win_by_wickets</th>\n",
       "      <th>...</th>\n",
       "      <th>player_of_match</th>\n",
       "      <th>venue</th>\n",
       "      <th>first_bat_team</th>\n",
       "      <th>first_bowl_team</th>\n",
       "      <th>first_bat_score</th>\n",
       "      <th>second_bat_score</th>\n",
       "      <th>weekday</th>\n",
       "      <th>Home_Winner</th>\n",
       "      <th>Rank_Team1</th>\n",
       "      <th>Rank_Team2</th>\n",
       "    </tr>\n",
       "  </thead>\n",
       "  <tbody>\n",
       "    <tr>\n",
       "      <th>0</th>\n",
       "      <td>2008-04-18</td>\n",
       "      <td>Bangalore</td>\n",
       "      <td>2008</td>\n",
       "      <td>RCB</td>\n",
       "      <td>KKR</td>\n",
       "      <td>RCB</td>\n",
       "      <td>field</td>\n",
       "      <td>KKR</td>\n",
       "      <td>140.0</td>\n",
       "      <td>NaN</td>\n",
       "      <td>...</td>\n",
       "      <td>BB McCullum</td>\n",
       "      <td>M Chinnaswamy Stadium</td>\n",
       "      <td>KKR</td>\n",
       "      <td>RCB</td>\n",
       "      <td>222.0</td>\n",
       "      <td>82.0</td>\n",
       "      <td>Fri</td>\n",
       "      <td>False</td>\n",
       "      <td>0.746856</td>\n",
       "      <td>0.750228</td>\n",
       "    </tr>\n",
       "    <tr>\n",
       "      <th>1</th>\n",
       "      <td>2008-04-19</td>\n",
       "      <td>Chandigarh</td>\n",
       "      <td>2008</td>\n",
       "      <td>KXIP</td>\n",
       "      <td>CSK</td>\n",
       "      <td>CSK</td>\n",
       "      <td>bat</td>\n",
       "      <td>CSK</td>\n",
       "      <td>33.0</td>\n",
       "      <td>NaN</td>\n",
       "      <td>...</td>\n",
       "      <td>MEK Hussey</td>\n",
       "      <td>Punjab Cricket Association Stadium, Mohali</td>\n",
       "      <td>CSK</td>\n",
       "      <td>KXIP</td>\n",
       "      <td>240.0</td>\n",
       "      <td>207.0</td>\n",
       "      <td>Sat</td>\n",
       "      <td>False</td>\n",
       "      <td>0.743242</td>\n",
       "      <td>0.850329</td>\n",
       "    </tr>\n",
       "    <tr>\n",
       "      <th>2</th>\n",
       "      <td>2008-04-19</td>\n",
       "      <td>Delhi</td>\n",
       "      <td>2008</td>\n",
       "      <td>DD</td>\n",
       "      <td>RR</td>\n",
       "      <td>RR</td>\n",
       "      <td>bat</td>\n",
       "      <td>DD</td>\n",
       "      <td>NaN</td>\n",
       "      <td>9.0</td>\n",
       "      <td>...</td>\n",
       "      <td>MF Maharoof</td>\n",
       "      <td>Feroz Shah Kotla</td>\n",
       "      <td>RR</td>\n",
       "      <td>DD</td>\n",
       "      <td>129.0</td>\n",
       "      <td>132.0</td>\n",
       "      <td>Sat</td>\n",
       "      <td>True</td>\n",
       "      <td>0.670650</td>\n",
       "      <td>0.754781</td>\n",
       "    </tr>\n",
       "    <tr>\n",
       "      <th>3</th>\n",
       "      <td>2008-04-20</td>\n",
       "      <td>Kolkata</td>\n",
       "      <td>2008</td>\n",
       "      <td>KKR</td>\n",
       "      <td>SRH</td>\n",
       "      <td>SRH</td>\n",
       "      <td>bat</td>\n",
       "      <td>KKR</td>\n",
       "      <td>NaN</td>\n",
       "      <td>5.0</td>\n",
       "      <td>...</td>\n",
       "      <td>DJ Hussey</td>\n",
       "      <td>Eden Gardens</td>\n",
       "      <td>SRH</td>\n",
       "      <td>KKR</td>\n",
       "      <td>110.0</td>\n",
       "      <td>112.0</td>\n",
       "      <td>Sun</td>\n",
       "      <td>True</td>\n",
       "      <td>0.750228</td>\n",
       "      <td>0.736980</td>\n",
       "    </tr>\n",
       "    <tr>\n",
       "      <th>4</th>\n",
       "      <td>2008-04-20</td>\n",
       "      <td>Mumbai</td>\n",
       "      <td>2008</td>\n",
       "      <td>MI</td>\n",
       "      <td>RCB</td>\n",
       "      <td>MI</td>\n",
       "      <td>bat</td>\n",
       "      <td>RCB</td>\n",
       "      <td>NaN</td>\n",
       "      <td>5.0</td>\n",
       "      <td>...</td>\n",
       "      <td>MV Boucher</td>\n",
       "      <td>Wankhede Stadium</td>\n",
       "      <td>MI</td>\n",
       "      <td>RCB</td>\n",
       "      <td>165.0</td>\n",
       "      <td>166.0</td>\n",
       "      <td>Sun</td>\n",
       "      <td>False</td>\n",
       "      <td>0.817237</td>\n",
       "      <td>0.746856</td>\n",
       "    </tr>\n",
       "  </tbody>\n",
       "</table>\n",
       "<p>5 rows × 22 columns</p>\n",
       "</div>"
      ],
      "text/plain": [
       "        date        city  season team1 team2 toss_winner toss_decision winner  \\\n",
       "0 2008-04-18   Bangalore    2008   RCB   KKR         RCB         field    KKR   \n",
       "1 2008-04-19  Chandigarh    2008  KXIP   CSK         CSK           bat    CSK   \n",
       "2 2008-04-19       Delhi    2008    DD    RR          RR           bat     DD   \n",
       "3 2008-04-20     Kolkata    2008   KKR   SRH         SRH           bat    KKR   \n",
       "4 2008-04-20      Mumbai    2008    MI   RCB          MI           bat    RCB   \n",
       "\n",
       "   win_by_runs  win_by_wickets  ... player_of_match  \\\n",
       "0        140.0             NaN  ...     BB McCullum   \n",
       "1         33.0             NaN  ...      MEK Hussey   \n",
       "2          NaN             9.0  ...     MF Maharoof   \n",
       "3          NaN             5.0  ...       DJ Hussey   \n",
       "4          NaN             5.0  ...      MV Boucher   \n",
       "\n",
       "                                        venue first_bat_team first_bowl_team  \\\n",
       "0                       M Chinnaswamy Stadium            KKR             RCB   \n",
       "1  Punjab Cricket Association Stadium, Mohali            CSK            KXIP   \n",
       "2                            Feroz Shah Kotla             RR              DD   \n",
       "3                                Eden Gardens            SRH             KKR   \n",
       "4                            Wankhede Stadium             MI             RCB   \n",
       "\n",
       "  first_bat_score second_bat_score  weekday  Home_Winner Rank_Team1  \\\n",
       "0           222.0             82.0      Fri        False   0.746856   \n",
       "1           240.0            207.0      Sat        False   0.743242   \n",
       "2           129.0            132.0      Sat         True   0.670650   \n",
       "3           110.0            112.0      Sun         True   0.750228   \n",
       "4           165.0            166.0      Sun        False   0.817237   \n",
       "\n",
       "   Rank_Team2  \n",
       "0    0.750228  \n",
       "1    0.850329  \n",
       "2    0.754781  \n",
       "3    0.736980  \n",
       "4    0.746856  \n",
       "\n",
       "[5 rows x 22 columns]"
      ]
     },
     "execution_count": 45,
     "metadata": {},
     "output_type": "execute_result"
    }
   ],
   "source": [
    "data1['Rank_Team1']=0\n",
    "data1['Rank_Team2']=0\n",
    "\n",
    "Conditions=[data1.team1=='CSK',data1.team1=='MI',data1.team1=='SRH',data1.team1=='DD',data1.team1=='KKR',data1.team1=='KXIP',\\\n",
    "            data1.team1=='RR',data1.team1=='RCB',data1.team1=='GL',data1.team1=='PW',data1.team1=='RPS',data1.team1=='KTK']\n",
    "values=list(Rank_Sr.values)\n",
    "\n",
    "data1['Rank_Team1']=np.where(data1['team1'].notnull(),np.select(Conditions,values,default=0),data1['Rank_Team1'])\n",
    "\n",
    "\n",
    "Conditions_2=[data1.team2=='CSK',data1.team2=='MI',data1.team2=='SRH',data1.team2=='DD',data1.team2=='KKR',data1.team2=='KXIP',\\\n",
    "            data1.team2=='RR',data1.team2=='RCB',data1.team2=='GL',data1.team2=='PW',data1.team2=='RPS',data1.team2=='KTK']\n",
    "\n",
    "data1['Rank_Team2']=np.where(data1['team2'].notnull(),np.select(Conditions_2,values,default=0),data1['Rank_Team2'])\n",
    "data1.head()"
   ]
  },
  {
   "cell_type": "markdown",
   "metadata": {},
   "source": [
    "### Machine Learning\n",
    "\n",
    "We will be using Decision Tree,SVM and Random forest classfier and tune them on the basis of hypertuning parameters."
   ]
  },
  {
   "cell_type": "code",
   "execution_count": null,
   "metadata": {},
   "outputs": [],
   "source": [
    "\n"
   ]
  },
  {
   "cell_type": "code",
   "execution_count": 46,
   "metadata": {},
   "outputs": [],
   "source": [
    "from sklearn.neighbors import KNeighborsClassifier\n",
    "from sklearn.model_selection import train_test_split\n",
    "from sklearn.model_selection import cross_val_score\n",
    "from sklearn.linear_model import LogisticRegression\n",
    "from sklearn.svm import SVC\n",
    "from sklearn.metrics import accuracy_score\n",
    "from sklearn.preprocessing import normalize\n",
    "from sklearn.preprocessing import LabelEncoder\n",
    "from sklearn.ensemble import RandomForestClassifier\n",
    "from sklearn.tree import DecisionTreeClassifier\n",
    "#creating labelEncoder\n",
    "\n",
    "le = LabelEncoder()\n",
    "# Converting string labels into numbers.\n",
    "\n",
    "data1['City_labels']=le.fit_transform(data1['city'])\n",
    "#print(City_encoded)\n",
    "data1['toss_decision_labels']=le.fit_transform(data1['toss_decision'])\n",
    "\n",
    "Team={'CSK':0,'MI':1,'SRH':2,'DD':3,'KKR':4,'KXIP':5,'RR':6,'RCB':7,'GL':8,'PW':9,'RPS':10,'KTK':11}\n",
    "\n",
    "ML_data1=data1.replace(Team)\n",
    "#print(ML_data1)\n",
    "\n",
    "\n",
    "\n",
    "\n",
    "\n",
    "\n",
    " \n",
    "\n",
    "\n",
    "\n",
    "\n"
   ]
  },
  {
   "cell_type": "code",
   "execution_count": 47,
   "metadata": {},
   "outputs": [
    {
     "data": {
      "text/html": [
       "<div>\n",
       "<style scoped>\n",
       "    .dataframe tbody tr th:only-of-type {\n",
       "        vertical-align: middle;\n",
       "    }\n",
       "\n",
       "    .dataframe tbody tr th {\n",
       "        vertical-align: top;\n",
       "    }\n",
       "\n",
       "    .dataframe thead th {\n",
       "        text-align: right;\n",
       "    }\n",
       "</style>\n",
       "<table border=\"1\" class=\"dataframe\">\n",
       "  <thead>\n",
       "    <tr style=\"text-align: right;\">\n",
       "      <th></th>\n",
       "      <th>date</th>\n",
       "      <th>city</th>\n",
       "      <th>season</th>\n",
       "      <th>team1</th>\n",
       "      <th>team2</th>\n",
       "      <th>toss_winner</th>\n",
       "      <th>toss_decision</th>\n",
       "      <th>winner</th>\n",
       "      <th>win_by_runs</th>\n",
       "      <th>win_by_wickets</th>\n",
       "      <th>...</th>\n",
       "      <th>first_bat_team</th>\n",
       "      <th>first_bowl_team</th>\n",
       "      <th>first_bat_score</th>\n",
       "      <th>second_bat_score</th>\n",
       "      <th>weekday</th>\n",
       "      <th>Home_Winner</th>\n",
       "      <th>Rank_Team1</th>\n",
       "      <th>Rank_Team2</th>\n",
       "      <th>City_labels</th>\n",
       "      <th>toss_decision_labels</th>\n",
       "    </tr>\n",
       "  </thead>\n",
       "  <tbody>\n",
       "    <tr>\n",
       "      <th>0</th>\n",
       "      <td>2008-04-18</td>\n",
       "      <td>Bangalore</td>\n",
       "      <td>2008</td>\n",
       "      <td>7</td>\n",
       "      <td>4</td>\n",
       "      <td>7</td>\n",
       "      <td>field</td>\n",
       "      <td>4</td>\n",
       "      <td>140.0</td>\n",
       "      <td>NaN</td>\n",
       "      <td>...</td>\n",
       "      <td>4</td>\n",
       "      <td>7</td>\n",
       "      <td>222.0</td>\n",
       "      <td>82.0</td>\n",
       "      <td>Fri</td>\n",
       "      <td>False</td>\n",
       "      <td>0.746856</td>\n",
       "      <td>0.750228</td>\n",
       "      <td>2</td>\n",
       "      <td>1</td>\n",
       "    </tr>\n",
       "    <tr>\n",
       "      <th>1</th>\n",
       "      <td>2008-04-19</td>\n",
       "      <td>Chandigarh</td>\n",
       "      <td>2008</td>\n",
       "      <td>5</td>\n",
       "      <td>0</td>\n",
       "      <td>0</td>\n",
       "      <td>bat</td>\n",
       "      <td>0</td>\n",
       "      <td>33.0</td>\n",
       "      <td>NaN</td>\n",
       "      <td>...</td>\n",
       "      <td>0</td>\n",
       "      <td>5</td>\n",
       "      <td>240.0</td>\n",
       "      <td>207.0</td>\n",
       "      <td>Sat</td>\n",
       "      <td>False</td>\n",
       "      <td>0.743242</td>\n",
       "      <td>0.850329</td>\n",
       "      <td>6</td>\n",
       "      <td>0</td>\n",
       "    </tr>\n",
       "    <tr>\n",
       "      <th>2</th>\n",
       "      <td>2008-04-19</td>\n",
       "      <td>Delhi</td>\n",
       "      <td>2008</td>\n",
       "      <td>3</td>\n",
       "      <td>6</td>\n",
       "      <td>6</td>\n",
       "      <td>bat</td>\n",
       "      <td>3</td>\n",
       "      <td>NaN</td>\n",
       "      <td>9.0</td>\n",
       "      <td>...</td>\n",
       "      <td>6</td>\n",
       "      <td>3</td>\n",
       "      <td>129.0</td>\n",
       "      <td>132.0</td>\n",
       "      <td>Sat</td>\n",
       "      <td>True</td>\n",
       "      <td>0.670650</td>\n",
       "      <td>0.754781</td>\n",
       "      <td>9</td>\n",
       "      <td>0</td>\n",
       "    </tr>\n",
       "    <tr>\n",
       "      <th>3</th>\n",
       "      <td>2008-04-20</td>\n",
       "      <td>Kolkata</td>\n",
       "      <td>2008</td>\n",
       "      <td>4</td>\n",
       "      <td>2</td>\n",
       "      <td>2</td>\n",
       "      <td>bat</td>\n",
       "      <td>4</td>\n",
       "      <td>NaN</td>\n",
       "      <td>5.0</td>\n",
       "      <td>...</td>\n",
       "      <td>2</td>\n",
       "      <td>4</td>\n",
       "      <td>110.0</td>\n",
       "      <td>112.0</td>\n",
       "      <td>Sun</td>\n",
       "      <td>True</td>\n",
       "      <td>0.750228</td>\n",
       "      <td>0.736980</td>\n",
       "      <td>20</td>\n",
       "      <td>0</td>\n",
       "    </tr>\n",
       "    <tr>\n",
       "      <th>4</th>\n",
       "      <td>2008-04-20</td>\n",
       "      <td>Mumbai</td>\n",
       "      <td>2008</td>\n",
       "      <td>1</td>\n",
       "      <td>7</td>\n",
       "      <td>1</td>\n",
       "      <td>bat</td>\n",
       "      <td>7</td>\n",
       "      <td>NaN</td>\n",
       "      <td>5.0</td>\n",
       "      <td>...</td>\n",
       "      <td>1</td>\n",
       "      <td>7</td>\n",
       "      <td>165.0</td>\n",
       "      <td>166.0</td>\n",
       "      <td>Sun</td>\n",
       "      <td>False</td>\n",
       "      <td>0.817237</td>\n",
       "      <td>0.746856</td>\n",
       "      <td>21</td>\n",
       "      <td>0</td>\n",
       "    </tr>\n",
       "  </tbody>\n",
       "</table>\n",
       "<p>5 rows × 24 columns</p>\n",
       "</div>"
      ],
      "text/plain": [
       "        date        city  season  team1  team2  toss_winner toss_decision  \\\n",
       "0 2008-04-18   Bangalore    2008      7      4            7         field   \n",
       "1 2008-04-19  Chandigarh    2008      5      0            0           bat   \n",
       "2 2008-04-19       Delhi    2008      3      6            6           bat   \n",
       "3 2008-04-20     Kolkata    2008      4      2            2           bat   \n",
       "4 2008-04-20      Mumbai    2008      1      7            1           bat   \n",
       "\n",
       "   winner  win_by_runs  win_by_wickets  ... first_bat_team  first_bowl_team  \\\n",
       "0       4        140.0             NaN  ...              4                7   \n",
       "1       0         33.0             NaN  ...              0                5   \n",
       "2       3          NaN             9.0  ...              6                3   \n",
       "3       4          NaN             5.0  ...              2                4   \n",
       "4       7          NaN             5.0  ...              1                7   \n",
       "\n",
       "  first_bat_score second_bat_score  weekday  Home_Winner  Rank_Team1  \\\n",
       "0           222.0             82.0      Fri        False    0.746856   \n",
       "1           240.0            207.0      Sat        False    0.743242   \n",
       "2           129.0            132.0      Sat         True    0.670650   \n",
       "3           110.0            112.0      Sun         True    0.750228   \n",
       "4           165.0            166.0      Sun        False    0.817237   \n",
       "\n",
       "   Rank_Team2 City_labels  toss_decision_labels  \n",
       "0    0.750228           2                     1  \n",
       "1    0.850329           6                     0  \n",
       "2    0.754781           9                     0  \n",
       "3    0.736980          20                     0  \n",
       "4    0.746856          21                     0  \n",
       "\n",
       "[5 rows x 24 columns]"
      ]
     },
     "execution_count": 47,
     "metadata": {},
     "output_type": "execute_result"
    }
   ],
   "source": [
    "ML_data1.head()\n"
   ]
  },
  {
   "cell_type": "code",
   "execution_count": 50,
   "metadata": {
    "scrolled": true
   },
   "outputs": [
    {
     "name": "stderr",
     "output_type": "stream",
     "text": [
      "C:\\Users\\Devil\\anaconda3\\lib\\site-packages\\ipykernel_launcher.py:33: SettingWithCopyWarning: \n",
      "A value is trying to be set on a copy of a slice from a DataFrame\n",
      "\n",
      "See the caveats in the documentation: https://pandas.pydata.org/pandas-docs/stable/user_guide/indexing.html#returning-a-view-versus-a-copy\n",
      "C:\\Users\\Devil\\anaconda3\\lib\\site-packages\\ipykernel_launcher.py:38: SettingWithCopyWarning: \n",
      "A value is trying to be set on a copy of a slice from a DataFrame\n",
      "\n",
      "See the caveats in the documentation: https://pandas.pydata.org/pandas-docs/stable/user_guide/indexing.html#returning-a-view-versus-a-copy\n"
     ]
    },
    {
     "data": {
      "text/html": [
       "<div>\n",
       "<style scoped>\n",
       "    .dataframe tbody tr th:only-of-type {\n",
       "        vertical-align: middle;\n",
       "    }\n",
       "\n",
       "    .dataframe tbody tr th {\n",
       "        vertical-align: top;\n",
       "    }\n",
       "\n",
       "    .dataframe thead th {\n",
       "        text-align: right;\n",
       "    }\n",
       "</style>\n",
       "<table border=\"1\" class=\"dataframe\">\n",
       "  <thead>\n",
       "    <tr style=\"text-align: right;\">\n",
       "      <th></th>\n",
       "      <th>date</th>\n",
       "      <th>city</th>\n",
       "      <th>season</th>\n",
       "      <th>team1</th>\n",
       "      <th>team2</th>\n",
       "      <th>toss_winner</th>\n",
       "      <th>toss_decision</th>\n",
       "      <th>winner</th>\n",
       "      <th>win_by_runs</th>\n",
       "      <th>win_by_wickets</th>\n",
       "      <th>...</th>\n",
       "      <th>first_bat_score</th>\n",
       "      <th>second_bat_score</th>\n",
       "      <th>weekday</th>\n",
       "      <th>Home_Winner</th>\n",
       "      <th>Rank_Team1</th>\n",
       "      <th>Rank_Team2</th>\n",
       "      <th>City_labels</th>\n",
       "      <th>toss_decision_labels</th>\n",
       "      <th>Home_Team</th>\n",
       "      <th>Away_Team</th>\n",
       "    </tr>\n",
       "  </thead>\n",
       "  <tbody>\n",
       "    <tr>\n",
       "      <th>55</th>\n",
       "      <td>2008-05-30</td>\n",
       "      <td>Mumbai</td>\n",
       "      <td>2008</td>\n",
       "      <td>3</td>\n",
       "      <td>6</td>\n",
       "      <td>3</td>\n",
       "      <td>field</td>\n",
       "      <td>6</td>\n",
       "      <td>105.0</td>\n",
       "      <td>NaN</td>\n",
       "      <td>...</td>\n",
       "      <td>192.0</td>\n",
       "      <td>87.0</td>\n",
       "      <td>Fri</td>\n",
       "      <td>False</td>\n",
       "      <td>0.670650</td>\n",
       "      <td>0.754781</td>\n",
       "      <td>21</td>\n",
       "      <td>1</td>\n",
       "      <td>12</td>\n",
       "      <td>12</td>\n",
       "    </tr>\n",
       "    <tr>\n",
       "      <th>56</th>\n",
       "      <td>2008-05-31</td>\n",
       "      <td>Mumbai</td>\n",
       "      <td>2008</td>\n",
       "      <td>0</td>\n",
       "      <td>5</td>\n",
       "      <td>5</td>\n",
       "      <td>bat</td>\n",
       "      <td>0</td>\n",
       "      <td>NaN</td>\n",
       "      <td>9.0</td>\n",
       "      <td>...</td>\n",
       "      <td>112.0</td>\n",
       "      <td>116.0</td>\n",
       "      <td>Sat</td>\n",
       "      <td>True</td>\n",
       "      <td>0.850329</td>\n",
       "      <td>0.743242</td>\n",
       "      <td>21</td>\n",
       "      <td>0</td>\n",
       "      <td>12</td>\n",
       "      <td>12</td>\n",
       "    </tr>\n",
       "    <tr>\n",
       "      <th>57</th>\n",
       "      <td>2008-06-01</td>\n",
       "      <td>Mumbai</td>\n",
       "      <td>2008</td>\n",
       "      <td>0</td>\n",
       "      <td>6</td>\n",
       "      <td>6</td>\n",
       "      <td>field</td>\n",
       "      <td>6</td>\n",
       "      <td>NaN</td>\n",
       "      <td>3.0</td>\n",
       "      <td>...</td>\n",
       "      <td>163.0</td>\n",
       "      <td>164.0</td>\n",
       "      <td>Sun</td>\n",
       "      <td>False</td>\n",
       "      <td>0.850329</td>\n",
       "      <td>0.754781</td>\n",
       "      <td>21</td>\n",
       "      <td>1</td>\n",
       "      <td>12</td>\n",
       "      <td>12</td>\n",
       "    </tr>\n",
       "    <tr>\n",
       "      <th>58</th>\n",
       "      <td>2009-04-18</td>\n",
       "      <td>Cape Town</td>\n",
       "      <td>2009</td>\n",
       "      <td>7</td>\n",
       "      <td>6</td>\n",
       "      <td>7</td>\n",
       "      <td>bat</td>\n",
       "      <td>7</td>\n",
       "      <td>75.0</td>\n",
       "      <td>NaN</td>\n",
       "      <td>...</td>\n",
       "      <td>133.0</td>\n",
       "      <td>58.0</td>\n",
       "      <td>Sat</td>\n",
       "      <td>True</td>\n",
       "      <td>0.746856</td>\n",
       "      <td>0.754781</td>\n",
       "      <td>4</td>\n",
       "      <td>0</td>\n",
       "      <td>12</td>\n",
       "      <td>12</td>\n",
       "    </tr>\n",
       "    <tr>\n",
       "      <th>59</th>\n",
       "      <td>2009-04-18</td>\n",
       "      <td>Cape Town</td>\n",
       "      <td>2009</td>\n",
       "      <td>0</td>\n",
       "      <td>1</td>\n",
       "      <td>0</td>\n",
       "      <td>field</td>\n",
       "      <td>1</td>\n",
       "      <td>19.0</td>\n",
       "      <td>NaN</td>\n",
       "      <td>...</td>\n",
       "      <td>165.0</td>\n",
       "      <td>146.0</td>\n",
       "      <td>Sat</td>\n",
       "      <td>False</td>\n",
       "      <td>0.850329</td>\n",
       "      <td>0.817237</td>\n",
       "      <td>4</td>\n",
       "      <td>1</td>\n",
       "      <td>12</td>\n",
       "      <td>12</td>\n",
       "    </tr>\n",
       "    <tr>\n",
       "      <th>...</th>\n",
       "      <td>...</td>\n",
       "      <td>...</td>\n",
       "      <td>...</td>\n",
       "      <td>...</td>\n",
       "      <td>...</td>\n",
       "      <td>...</td>\n",
       "      <td>...</td>\n",
       "      <td>...</td>\n",
       "      <td>...</td>\n",
       "      <td>...</td>\n",
       "      <td>...</td>\n",
       "      <td>...</td>\n",
       "      <td>...</td>\n",
       "      <td>...</td>\n",
       "      <td>...</td>\n",
       "      <td>...</td>\n",
       "      <td>...</td>\n",
       "      <td>...</td>\n",
       "      <td>...</td>\n",
       "      <td>...</td>\n",
       "      <td>...</td>\n",
       "    </tr>\n",
       "    <tr>\n",
       "      <th>679</th>\n",
       "      <td>2018-05-13</td>\n",
       "      <td>Pune</td>\n",
       "      <td>2018</td>\n",
       "      <td>0</td>\n",
       "      <td>2</td>\n",
       "      <td>0</td>\n",
       "      <td>field</td>\n",
       "      <td>0</td>\n",
       "      <td>NaN</td>\n",
       "      <td>8.0</td>\n",
       "      <td>...</td>\n",
       "      <td>179.0</td>\n",
       "      <td>180.0</td>\n",
       "      <td>Sun</td>\n",
       "      <td>True</td>\n",
       "      <td>0.850329</td>\n",
       "      <td>0.736980</td>\n",
       "      <td>24</td>\n",
       "      <td>1</td>\n",
       "      <td>12</td>\n",
       "      <td>12</td>\n",
       "    </tr>\n",
       "    <tr>\n",
       "      <th>680</th>\n",
       "      <td>2018-05-14</td>\n",
       "      <td>Indore</td>\n",
       "      <td>2018</td>\n",
       "      <td>5</td>\n",
       "      <td>7</td>\n",
       "      <td>7</td>\n",
       "      <td>field</td>\n",
       "      <td>7</td>\n",
       "      <td>NaN</td>\n",
       "      <td>10.0</td>\n",
       "      <td>...</td>\n",
       "      <td>88.0</td>\n",
       "      <td>92.0</td>\n",
       "      <td>Mon</td>\n",
       "      <td>False</td>\n",
       "      <td>0.743242</td>\n",
       "      <td>0.746856</td>\n",
       "      <td>14</td>\n",
       "      <td>1</td>\n",
       "      <td>12</td>\n",
       "      <td>12</td>\n",
       "    </tr>\n",
       "    <tr>\n",
       "      <th>688</th>\n",
       "      <td>2018-05-20</td>\n",
       "      <td>Pune</td>\n",
       "      <td>2018</td>\n",
       "      <td>0</td>\n",
       "      <td>5</td>\n",
       "      <td>0</td>\n",
       "      <td>field</td>\n",
       "      <td>0</td>\n",
       "      <td>NaN</td>\n",
       "      <td>5.0</td>\n",
       "      <td>...</td>\n",
       "      <td>153.0</td>\n",
       "      <td>159.0</td>\n",
       "      <td>Sun</td>\n",
       "      <td>True</td>\n",
       "      <td>0.850329</td>\n",
       "      <td>0.743242</td>\n",
       "      <td>24</td>\n",
       "      <td>1</td>\n",
       "      <td>12</td>\n",
       "      <td>12</td>\n",
       "    </tr>\n",
       "    <tr>\n",
       "      <th>689</th>\n",
       "      <td>2018-05-22</td>\n",
       "      <td>Mumbai</td>\n",
       "      <td>2018</td>\n",
       "      <td>2</td>\n",
       "      <td>0</td>\n",
       "      <td>0</td>\n",
       "      <td>field</td>\n",
       "      <td>0</td>\n",
       "      <td>NaN</td>\n",
       "      <td>2.0</td>\n",
       "      <td>...</td>\n",
       "      <td>139.0</td>\n",
       "      <td>140.0</td>\n",
       "      <td>Tue</td>\n",
       "      <td>False</td>\n",
       "      <td>0.736980</td>\n",
       "      <td>0.850329</td>\n",
       "      <td>21</td>\n",
       "      <td>1</td>\n",
       "      <td>12</td>\n",
       "      <td>12</td>\n",
       "    </tr>\n",
       "    <tr>\n",
       "      <th>692</th>\n",
       "      <td>2018-05-27</td>\n",
       "      <td>Mumbai</td>\n",
       "      <td>2018</td>\n",
       "      <td>0</td>\n",
       "      <td>2</td>\n",
       "      <td>0</td>\n",
       "      <td>field</td>\n",
       "      <td>0</td>\n",
       "      <td>NaN</td>\n",
       "      <td>8.0</td>\n",
       "      <td>...</td>\n",
       "      <td>178.0</td>\n",
       "      <td>181.0</td>\n",
       "      <td>Sun</td>\n",
       "      <td>True</td>\n",
       "      <td>0.850329</td>\n",
       "      <td>0.736980</td>\n",
       "      <td>21</td>\n",
       "      <td>1</td>\n",
       "      <td>12</td>\n",
       "      <td>12</td>\n",
       "    </tr>\n",
       "  </tbody>\n",
       "</table>\n",
       "<p>188 rows × 26 columns</p>\n",
       "</div>"
      ],
      "text/plain": [
       "          date       city  season  team1  team2  toss_winner toss_decision  \\\n",
       "55  2008-05-30     Mumbai    2008      3      6            3         field   \n",
       "56  2008-05-31     Mumbai    2008      0      5            5           bat   \n",
       "57  2008-06-01     Mumbai    2008      0      6            6         field   \n",
       "58  2009-04-18  Cape Town    2009      7      6            7           bat   \n",
       "59  2009-04-18  Cape Town    2009      0      1            0         field   \n",
       "..         ...        ...     ...    ...    ...          ...           ...   \n",
       "679 2018-05-13       Pune    2018      0      2            0         field   \n",
       "680 2018-05-14     Indore    2018      5      7            7         field   \n",
       "688 2018-05-20       Pune    2018      0      5            0         field   \n",
       "689 2018-05-22     Mumbai    2018      2      0            0         field   \n",
       "692 2018-05-27     Mumbai    2018      0      2            0         field   \n",
       "\n",
       "     winner  win_by_runs  win_by_wickets  ... first_bat_score  \\\n",
       "55        6        105.0             NaN  ...           192.0   \n",
       "56        0          NaN             9.0  ...           112.0   \n",
       "57        6          NaN             3.0  ...           163.0   \n",
       "58        7         75.0             NaN  ...           133.0   \n",
       "59        1         19.0             NaN  ...           165.0   \n",
       "..      ...          ...             ...  ...             ...   \n",
       "679       0          NaN             8.0  ...           179.0   \n",
       "680       7          NaN            10.0  ...            88.0   \n",
       "688       0          NaN             5.0  ...           153.0   \n",
       "689       0          NaN             2.0  ...           139.0   \n",
       "692       0          NaN             8.0  ...           178.0   \n",
       "\n",
       "     second_bat_score weekday Home_Winner  Rank_Team1  Rank_Team2  \\\n",
       "55               87.0     Fri       False    0.670650    0.754781   \n",
       "56              116.0     Sat        True    0.850329    0.743242   \n",
       "57              164.0     Sun       False    0.850329    0.754781   \n",
       "58               58.0     Sat        True    0.746856    0.754781   \n",
       "59              146.0     Sat       False    0.850329    0.817237   \n",
       "..                ...     ...         ...         ...         ...   \n",
       "679             180.0     Sun        True    0.850329    0.736980   \n",
       "680              92.0     Mon       False    0.743242    0.746856   \n",
       "688             159.0     Sun        True    0.850329    0.743242   \n",
       "689             140.0     Tue       False    0.736980    0.850329   \n",
       "692             181.0     Sun        True    0.850329    0.736980   \n",
       "\n",
       "     City_labels  toss_decision_labels Home_Team  Away_Team  \n",
       "55            21                     1        12         12  \n",
       "56            21                     0        12         12  \n",
       "57            21                     1        12         12  \n",
       "58             4                     0        12         12  \n",
       "59             4                     1        12         12  \n",
       "..           ...                   ...       ...        ...  \n",
       "679           24                     1        12         12  \n",
       "680           14                     1        12         12  \n",
       "688           24                     1        12         12  \n",
       "689           21                     1        12         12  \n",
       "692           21                     1        12         12  \n",
       "\n",
       "[188 rows x 26 columns]"
      ]
     },
     "execution_count": 50,
     "metadata": {},
     "output_type": "execute_result"
    }
   ],
   "source": [
    "\n",
    "\n",
    "#data1[(data1.team2=='MI') & (data1.city=='Mumbai')]['team1'].replace(team1)\n",
    "conditions_Home_team=[(ML_data1.city=='Chennai') &(ML_data1.team1==0),(ML_data1.city=='Mumbai') &(ML_data1.team1==1),\\\n",
    "           (ML_data1.city=='Hyderabad') &(ML_data1.team1==2),(ML_data1.city=='Delhi') &(ML_data1.team1==3),\\\n",
    "           (ML_data1.city=='Kolkata') &(ML_data1.team1==4),(ML_data1.city=='Chandigarh') &(ML_data1.team1==5),\\\n",
    "           (ML_data1.city=='Jaipur') &(ML_data1.team1==6),(ML_data1.city=='Bangalore') &(ML_data1.team1==7),\\\n",
    "           (ML_data1.city=='Rajkot') &(ML_data1.team1==8),(ML_data1.city=='Pune') &(ML_data1.team1==9),\\\n",
    "           (ML_data1.city=='Pune') &(ML_data1.team1==10),(ML_data1.city=='Kochi') &(ML_data1.team1==11),\\\n",
    "           (ML_data1.city=='Chennai') &(ML_data1.team2==0),(ML_data1.city=='Mumbai') &(ML_data1.team2==1),\\\n",
    "           (ML_data1.city=='Hyderabad') &(ML_data1.team2==2),(ML_data1.city=='Delhi') &(ML_data1.team2==3),\\\n",
    "           (ML_data1.city=='Kolkata') &(ML_data1.team2==4),(ML_data1.city=='Chandigarh') &(ML_data1.team2==5),\\\n",
    "           (ML_data1.city=='Jaipur') &(ML_data1.team2==6),(ML_data1.city=='Bangalore') &(ML_data1.team2==7),\\\n",
    "           (ML_data1.city=='Rajkot') &(ML_data1.team2==8),(ML_data1.city=='Pune') &(ML_data1.team2==9),\\\n",
    "           (ML_data1.city=='Pune') &(ML_data1.team2==10),(ML_data1.city=='Kochi') &(ML_data1.team2==11)]\n",
    "\n",
    "\n",
    "\n",
    "values=[0,1,2,3,4,5,6,7,8,9,10,11,0,1,2,3,4,5,6,7,8,9,10,11]\n",
    "\n",
    "ML_data1['Home_Team']=12\n",
    "ML_data1['Home_Team']=np.where(ML_data1['Home_Team'].notnull(),np.select(conditions_Home_team,values,default=12),ML_data1['Home_Team'])\n",
    "\n",
    "\n",
    "ML_data1.head()\n",
    "\n",
    "ML_data1['Away_Team']=12\n",
    "\n",
    "#len(ML_data1[ML_data1.Home_Team==ML_data1.team1])\n",
    "#len(ML_data1[ML_data1.Home_Team==ML_data1.team2])\n",
    "\n",
    "put=ML_data1[(ML_data1.Home_Team!=1000) &(ML_data1.team1==ML_data1.Home_Team)]['Home_Team'].index.values\n",
    "\n",
    "for i in range(len(put)):\n",
    "    ML_data1.Away_Team[put[i]]=ML_data1.team2[put[i]]\n",
    "\n",
    "put=ML_data1[(ML_data1.Home_Team!=1000) &(ML_data1.team2==ML_data1.Home_Team)]['Home_Team'].index.values\n",
    "\n",
    "for i in range(len(put)):\n",
    "    ML_data1.Away_Team[put[i]]=ML_data1.team1[put[i]]  \n",
    "\n",
    "ML_data1.head()\n",
    "\n",
    "ML_data1[(ML_data1.Away_Team==12) & (ML_data1.Home_Team==12)]\n",
    "\n"
   ]
  },
  {
   "cell_type": "code",
   "execution_count": 51,
   "metadata": {},
   "outputs": [
    {
     "data": {
      "text/html": [
       "<div>\n",
       "<style scoped>\n",
       "    .dataframe tbody tr th:only-of-type {\n",
       "        vertical-align: middle;\n",
       "    }\n",
       "\n",
       "    .dataframe tbody tr th {\n",
       "        vertical-align: top;\n",
       "    }\n",
       "\n",
       "    .dataframe thead th {\n",
       "        text-align: right;\n",
       "    }\n",
       "</style>\n",
       "<table border=\"1\" class=\"dataframe\">\n",
       "  <thead>\n",
       "    <tr style=\"text-align: right;\">\n",
       "      <th></th>\n",
       "      <th>winner</th>\n",
       "      <th>final_Winner</th>\n",
       "      <th>Winner_A</th>\n",
       "      <th>Winner_B</th>\n",
       "      <th>Rank_Team1</th>\n",
       "      <th>Rank_Team2</th>\n",
       "    </tr>\n",
       "  </thead>\n",
       "  <tbody>\n",
       "    <tr>\n",
       "      <th>0</th>\n",
       "      <td>4</td>\n",
       "      <td>4</td>\n",
       "      <td>NaN</td>\n",
       "      <td>4.0</td>\n",
       "      <td>0.746856</td>\n",
       "      <td>0.750228</td>\n",
       "    </tr>\n",
       "    <tr>\n",
       "      <th>1</th>\n",
       "      <td>0</td>\n",
       "      <td>0</td>\n",
       "      <td>NaN</td>\n",
       "      <td>0.0</td>\n",
       "      <td>0.743242</td>\n",
       "      <td>0.850329</td>\n",
       "    </tr>\n",
       "    <tr>\n",
       "      <th>2</th>\n",
       "      <td>3</td>\n",
       "      <td>6</td>\n",
       "      <td>NaN</td>\n",
       "      <td>6.0</td>\n",
       "      <td>0.670650</td>\n",
       "      <td>0.754781</td>\n",
       "    </tr>\n",
       "    <tr>\n",
       "      <th>3</th>\n",
       "      <td>4</td>\n",
       "      <td>4</td>\n",
       "      <td>4.0</td>\n",
       "      <td>NaN</td>\n",
       "      <td>0.750228</td>\n",
       "      <td>0.736980</td>\n",
       "    </tr>\n",
       "    <tr>\n",
       "      <th>4</th>\n",
       "      <td>7</td>\n",
       "      <td>1</td>\n",
       "      <td>1.0</td>\n",
       "      <td>NaN</td>\n",
       "      <td>0.817237</td>\n",
       "      <td>0.746856</td>\n",
       "    </tr>\n",
       "    <tr>\n",
       "      <th>...</th>\n",
       "      <td>...</td>\n",
       "      <td>...</td>\n",
       "      <td>...</td>\n",
       "      <td>...</td>\n",
       "      <td>...</td>\n",
       "      <td>...</td>\n",
       "    </tr>\n",
       "    <tr>\n",
       "      <th>737</th>\n",
       "      <td>6</td>\n",
       "      <td>6</td>\n",
       "      <td>6.0</td>\n",
       "      <td>NaN</td>\n",
       "      <td>0.754781</td>\n",
       "      <td>0.736980</td>\n",
       "    </tr>\n",
       "    <tr>\n",
       "      <th>738</th>\n",
       "      <td>3</td>\n",
       "      <td>7</td>\n",
       "      <td>NaN</td>\n",
       "      <td>7.0</td>\n",
       "      <td>0.670650</td>\n",
       "      <td>0.746856</td>\n",
       "    </tr>\n",
       "    <tr>\n",
       "      <th>739</th>\n",
       "      <td>4</td>\n",
       "      <td>1</td>\n",
       "      <td>NaN</td>\n",
       "      <td>1.0</td>\n",
       "      <td>0.750228</td>\n",
       "      <td>0.817237</td>\n",
       "    </tr>\n",
       "    <tr>\n",
       "      <th>740</th>\n",
       "      <td>2</td>\n",
       "      <td>5</td>\n",
       "      <td>NaN</td>\n",
       "      <td>5.0</td>\n",
       "      <td>0.736980</td>\n",
       "      <td>0.743242</td>\n",
       "    </tr>\n",
       "    <tr>\n",
       "      <th>741</th>\n",
       "      <td>0</td>\n",
       "      <td>0</td>\n",
       "      <td>0.0</td>\n",
       "      <td>NaN</td>\n",
       "      <td>0.850329</td>\n",
       "      <td>0.670650</td>\n",
       "    </tr>\n",
       "  </tbody>\n",
       "</table>\n",
       "<p>742 rows × 6 columns</p>\n",
       "</div>"
      ],
      "text/plain": [
       "     winner  final_Winner  Winner_A  Winner_B  Rank_Team1  Rank_Team2\n",
       "0         4             4       NaN       4.0    0.746856    0.750228\n",
       "1         0             0       NaN       0.0    0.743242    0.850329\n",
       "2         3             6       NaN       6.0    0.670650    0.754781\n",
       "3         4             4       4.0       NaN    0.750228    0.736980\n",
       "4         7             1       1.0       NaN    0.817237    0.746856\n",
       "..      ...           ...       ...       ...         ...         ...\n",
       "737       6             6       6.0       NaN    0.754781    0.736980\n",
       "738       3             7       NaN       7.0    0.670650    0.746856\n",
       "739       4             1       NaN       1.0    0.750228    0.817237\n",
       "740       2             5       NaN       5.0    0.736980    0.743242\n",
       "741       0             0       0.0       NaN    0.850329    0.670650\n",
       "\n",
       "[742 rows x 6 columns]"
      ]
     },
     "execution_count": 51,
     "metadata": {},
     "output_type": "execute_result"
    }
   ],
   "source": [
    "ML_data1['Winner_A']=0\n",
    "ML_data1['Winner_B']=0\n",
    "ML_data1['Winner_A']=ML_data1[ML_data1.Rank_Team1>ML_data1.Rank_Team2]['team1']\n",
    "ML_data1['Winner_B']=ML_data1[ML_data1.Rank_Team1<ML_data1.Rank_Team2]['team2']\n",
    "\n",
    "ML_data1['final_Winner']=0\n",
    "ML_data1['final_Winner']=ML_data1['Winner_A'].add(ML_data1['Winner_B'])\n",
    "\n",
    "ML_data1[['winner','final_Winner','Winner_A','Winner_B','Rank_Team1','Rank_Team2']]\n",
    "\n",
    "ML_data1['Winner_A'].fillna(0)\n",
    "ML_data1['Winner_B'].fillna(0)\n",
    "\n",
    "ML_data1['final_Winner']=ML_data1['Winner_A'].add(ML_data1['Winner_B'],fill_value=0)\n",
    "ML_data1['final_Winner']=ML_data1['final_Winner'].astype('int64')\n",
    "ML_data1[['winner','final_Winner','Winner_A','Winner_B','Rank_Team1','Rank_Team2']]\n"
   ]
  },
  {
   "cell_type": "code",
   "execution_count": 52,
   "metadata": {},
   "outputs": [
    {
     "name": "stdout",
     "output_type": "stream",
     "text": [
      "              Specs       Score\n",
      "12     final_Winner  818.479233\n",
      "9      venue_labels  423.384750\n",
      "1       City_labels  379.694773\n",
      "0       toss_winner  374.185095\n",
      "2             team1  359.702788\n",
      "11  first_bowl_team  359.042791\n",
      "3             team2  266.365595\n",
      "10   first_bat_team  263.210634\n",
      "7         Home_Team  154.401730\n",
      "8         Away_Team  139.009872\n",
      "final_Winner            0.125703\n",
      "first_bowl_team         0.102513\n",
      "venue_labels            0.092023\n",
      "toss_winner             0.090499\n",
      "team1                   0.075077\n",
      "Rank_Team1              0.074313\n",
      "team2                   0.073711\n",
      "Rank_Team2              0.073144\n",
      "first_bat_team          0.073041\n",
      "City_labels             0.071117\n",
      "Away_Team               0.054461\n",
      "Home_Team               0.050974\n",
      "toss_decision_labels    0.043423\n",
      "dtype: float64\n"
     ]
    },
    {
     "data": {
      "image/png": "[encoded data removed]",
      "text/plain": [
       "<Figure size 432x288 with 1 Axes>"
      ]
     },
     "metadata": {
      "needs_background": "light"
     },
     "output_type": "display_data"
    }
   ],
   "source": [
    "from sklearn.feature_selection import SelectKBest\n",
    "from sklearn.feature_selection import chi2\n",
    "\n",
    "ML_data1['season_labels']=le.fit_transform(data1['season'])\n",
    "ML_data1['venue_labels']=le.fit_transform(data1['venue'])\n",
    "#ML_data1['weekday_labels']=le.fit_transform(data1['weekday'])\n",
    "\n",
    "\n",
    "\n",
    "X1=ML_data1[['toss_winner','City_labels','team1','team2','Rank_Team1','Rank_Team2','toss_decision_labels','Home_Team','Away_Team','venue_labels','first_bat_team','first_bowl_team','final_Winner']]\n",
    "y1=ML_data1['winner']\n",
    "\n",
    "\n",
    "#apply SelectKBest class to extract top 10 best features\n",
    "bestfeatures = SelectKBest(score_func=chi2, k=5)\n",
    "fit = bestfeatures.fit(X1,y1)\n",
    "dfscores = pd.DataFrame(fit.scores_)\n",
    "dfcolumns = pd.DataFrame(X1.columns)\n",
    "#concat two dataframes for better visualization \n",
    "featureScores = pd.concat([dfcolumns,dfscores],axis=1)\n",
    "featureScores.columns = ['Specs','Score']  #naming the dataframe columns\n",
    "print(featureScores.nlargest(10,'Score'))  #print 10 best features\n",
    "\n",
    "\n",
    "from sklearn.ensemble import ExtraTreesClassifier\n",
    "import matplotlib.pyplot as plt\n",
    "model = ExtraTreesClassifier()\n",
    "model.fit(X1,y1)\n",
    "#print(model.feature_importances_) #use inbuilt class feature_importances of tree based classifiers\n",
    "#plot graph of feature importances for better visualization\n",
    "feat_importances = pd.Series(model.feature_importances_, index=X1.columns)\n",
    "print(feat_importances.sort_values(ascending=False))\n",
    "feat_importances.nlargest(10).plot(kind='barh')\n",
    "plt.xlabel('features')\n",
    "plt.ylabel('feature_importance_probability')\n",
    "plt.show()\n"
   ]
  },
  {
   "cell_type": "code",
   "execution_count": 53,
   "metadata": {},
   "outputs": [],
   "source": [
    "X=ML_data1[['team1','team2','final_Winner','toss_winner','first_bowl_team','first_bat_team']].values\n",
    "y=ML_data1['winner'].values"
   ]
  },
  {
   "cell_type": "markdown",
   "metadata": {},
   "source": [
    "### Decision Tree Classfier"
   ]
  },
  {
   "cell_type": "code",
   "execution_count": 54,
   "metadata": {},
   "outputs": [],
   "source": [
    "# Split into training and test set\n",
    "X_train, X_test, y_train, y_test = train_test_split(X, y, test_size=0.2,random_state=42,stratify=y)\n"
   ]
  },
  {
   "cell_type": "code",
   "execution_count": 55,
   "metadata": {},
   "outputs": [
    {
     "name": "stdout",
     "output_type": "stream",
     "text": [
      "Training_Score: 78.07757166947724\n",
      "Testing_Score: 53.691275167785236\n",
      "f1_score: 55.14369004912244\n",
      "Mean_Cross_Validation_Score_Accuracy: 53.63776528206058\n"
     ]
    }
   ],
   "source": [
    "# With Stratification\n",
    "\n",
    "from sklearn.metrics import f1_score\n",
    "#Decision Tree Classifier\n",
    "\n",
    "\n",
    "dt=DecisionTreeClassifier()\n",
    "dt.fit(X_train,y_train)\n",
    "print('Training_Score:',dt.score(X_train,y_train)*100)\n",
    "# Print the accuracy\n",
    "print('Testing_Score:',dt.score(X_test, y_test)*100)\n",
    "y_pred=dt.predict(X_test)\n",
    "print(\"f1_score:\",f1_score(y_pred,y_test,average='weighted')*100)\n",
    "\n",
    "cv_scores = cross_val_score(dt,X,y,cv=5)\n",
    "print(\"Mean_Cross_Validation_Score_Accuracy:\",np.mean(cv_scores)*100)\n",
    "\n",
    "\n"
   ]
  },
  {
   "cell_type": "markdown",
   "metadata": {},
   "source": [
    "#### Tuning of the Decision Tree using RandomizedSearchCV"
   ]
  },
  {
   "cell_type": "code",
   "execution_count": 78,
   "metadata": {},
   "outputs": [
    {
     "name": "stdout",
     "output_type": "stream",
     "text": [
      "Tuned Decision Tree Parameters: {'min_samples_leaf': 5, 'max_features': 6, 'max_depth': None, 'criterion': 'gini'}\n",
      "Best Accuracy_score is: 0.5404044984581897\n"
     ]
    }
   ],
   "source": [
    "from sklearn.model_selection import RandomizedSearchCV\n",
    "from random import randint\n",
    "# Setup the parameters and distributions to sample from: param_dist\n",
    "param_dist = {'max_depth':[1,None],\n",
    "          \"max_features\": [1,2,3,4,5,6], \"min_samples_leaf\": [1,2,3,4,5], \"criterion\": [\"gini\", \"entropy\"]}\n",
    "\n",
    "# Instantiate a Decision Tree classifier: tree\n",
    "\n",
    "\n",
    "# Instantiate the RandomizedSearchCV object: tree_cv\n",
    "tree_cv = RandomizedSearchCV(dt, param_dist, cv=5)\n",
    "\n",
    "# Fit it to the data\n",
    "tree_cv.fit(X,y)\n",
    "\n",
    "# Print the tuned parameters and score\n",
    "print(\"Tuned Decision Tree Parameters:\",tree_cv.best_params_)\n",
    "print(\"Best Accuracy_score is:\",tree_cv.best_score_)\n"
   ]
  },
  {
   "cell_type": "markdown",
   "metadata": {},
   "source": [
    "### Support Vector Machine(SVM)"
   ]
  },
  {
   "cell_type": "code",
   "execution_count": 79,
   "metadata": {
    "scrolled": false
   },
   "outputs": [
    {
     "name": "stdout",
     "output_type": "stream",
     "text": [
      "Training_Score: 52.61382799325464\n",
      "Testing_Score: 42.281879194630875\n",
      "f1_score: 49.75108116678903\n",
      "Mean_Cross_Validation_Score: 45.555051695991295\n"
     ]
    }
   ],
   "source": [
    "from sklearn.pipeline import Pipeline\n",
    "from sklearn.model_selection import GridSearchCV\n",
    "\n",
    "\n",
    "svc=SVC()\n",
    "# Fit the classifier to the training data\n",
    "svc.fit(X_train,y_train)\n",
    "print('Training_Score:',svc.score(X_train,y_train)*100)\n",
    "# Print the accuracy\n",
    "print('Testing_Score:',svc.score(X_test, y_test)*100)\n",
    "y_pred=svc.predict(X_test)\n",
    "print(\"f1_score:\",f1_score(y_pred,y_test,average='weighted')*100)\n",
    "\n",
    "cv_scores = cross_val_score(svc,X,y,cv=5)\n",
    "print(\"Mean_Cross_Validation_Score:\",np.mean(cv_scores)*100)\n",
    "\n",
    "\n",
    "\n"
   ]
  },
  {
   "cell_type": "markdown",
   "metadata": {},
   "source": [
    "###### Since this is a Imbalanced dataset and Muticlass too, SVC comes as a Poor classifier.\n",
    "anyway, Lets Try to Tune this"
   ]
  },
  {
   "cell_type": "markdown",
   "metadata": {},
   "source": [
    "#### Tuning the SVM classifier"
   ]
  },
  {
   "cell_type": "code",
   "execution_count": 58,
   "metadata": {},
   "outputs": [
    {
     "name": "stdout",
     "output_type": "stream",
     "text": [
      "Tuned Model Accuracy: 0.5100671140939598\n",
      "Tuned Model Parameters: {'C': 100.0, 'gamma': 0.01}\n"
     ]
    }
   ],
   "source": [
    "#Let us the tune C and gamma Using GridSearchCV\n",
    "\n",
    "parameters = {'C':np.logspace(-2,2,5),\n",
    "              'gamma':np.logspace(-2, 1, 10)}\n",
    "\n",
    "G_cv = GridSearchCV(svc,param_grid=parameters,cv=5)\n",
    "# Fit to the training set\n",
    "G_cv.fit(X_train,y_train)\n",
    "\n",
    "# Predict the labels of the test set: y_pred\n",
    "y_pred = G_cv.predict(X_test)\n",
    "\n",
    "# Compute and print metrics\n",
    "print(\"Tuned Model Accuracy: {}\".format(G_cv.score(X_test, y_test)))\n",
    "#print(classification_report(y_test, y_pred,zero_division=True))\n",
    "print(\"Tuned Model Parameters: {}\".format(G_cv.best_params_))"
   ]
  },
  {
   "cell_type": "markdown",
   "metadata": {},
   "source": [
    "#### Random Forest Classifier"
   ]
  },
  {
   "cell_type": "code",
   "execution_count": 59,
   "metadata": {
    "scrolled": false
   },
   "outputs": [
    {
     "name": "stdout",
     "output_type": "stream",
     "text": [
      "Training_Score: 78.07757166947724\n",
      "Testing_Score: 57.04697986577181\n",
      "f1_score: 58.1648416752006\n",
      "Mean_Cross_Validation_Score: 53.09903863595139\n"
     ]
    }
   ],
   "source": [
    "#Create a Random Forest Classifier\n",
    "rfc=RandomForestClassifier()\n",
    "# Fit the classifier to the training data\n",
    "rfc.fit(X_train,y_train)\n",
    "print('Training_Score:',rfc.score(X_train,y_train)*100)\n",
    "# Print the accuracy\n",
    "print('Testing_Score:',rfc.score(X_test, y_test)*100)\n",
    "\n",
    "y_pred=rfc.predict(X_test)\n",
    "print(\"f1_score:\",f1_score(y_pred,y_test,average='weighted')*100)\n",
    "cv_scores = cross_val_score(rfc,X,y,cv=5)\n",
    "print(\"Mean_Cross_Validation_Score:\",np.mean(cv_scores)*100)\n",
    "\n",
    "\n",
    "\n"
   ]
  },
  {
   "cell_type": "markdown",
   "metadata": {},
   "source": [
    "#### Tuning the Random Forest classifier"
   ]
  },
  {
   "cell_type": "code",
   "execution_count": 60,
   "metadata": {},
   "outputs": [
    {
     "name": "stdout",
     "output_type": "stream",
     "text": [
      "\n",
      "no of estimators: 22 \n",
      "Best_Score: 59.73154362416108\n"
     ]
    }
   ],
   "source": [
    "max_score=0\n",
    "\n",
    "for i in range(2,50):\n",
    "    RFC=RandomForestClassifier(n_estimators=i)\n",
    "    RFC.fit(X_train,y_train)\n",
    "    score=RFC.score(X_test, y_test)*100\n",
    "    if score>max_score:\n",
    "        max_score=score\n",
    "        n_ests=i\n",
    "print(\"\\nno of estimators:\",n_ests,\"\\nBest_Score:\",max_score)\n",
    "\n",
    "\n",
    "\n",
    "\n"
   ]
  },
  {
   "cell_type": "code",
   "execution_count": 61,
   "metadata": {},
   "outputs": [
    {
     "name": "stdout",
     "output_type": "stream",
     "text": [
      "Tuned Random_Forest Parameters: {'min_samples_leaf': 4, 'max_features': 1, 'max_depth': None, 'criterion': 'gini'}\n",
      "Best Accuracy_score is: 0.5620261200798113\n"
     ]
    }
   ],
   "source": [
    "#Use the Previously found best estimators to tune Using Randomized_Search_CV\n",
    "\n",
    "param_dist = {'max_depth':[1,None],\n",
    "          \"max_features\": [1,2,3,4,5,6], \"min_samples_leaf\": [1,2,3,4,5], \"criterion\": [\"gini\", \"entropy\"]}\n",
    "\n",
    " \n",
    "\n",
    "RFC=RandomForestClassifier(n_estimators=n_ests)\n",
    "\n",
    "# Instantiate the RandomizedSearchCV object: tree_cv\n",
    "forest_cv = RandomizedSearchCV(RFC, param_dist, cv=5)\n",
    "\n",
    "forest_cv.fit(X,y)\n",
    "\n",
    "# Print the tuned parameters and score\n",
    "print(\"Tuned Random_Forest Parameters:\",forest_cv.best_params_)\n",
    "print(\"Best Accuracy_score is:\",forest_cv.best_score_)\n",
    "\n"
   ]
  },
  {
   "cell_type": "markdown",
   "metadata": {},
   "source": [
    "### Classification Reports"
   ]
  },
  {
   "cell_type": "code",
   "execution_count": 62,
   "metadata": {
    "scrolled": true
   },
   "outputs": [
    {
     "name": "stdout",
     "output_type": "stream",
     "text": [
      "\n",
      "Classification report for Decision tree classifier\n",
      "\n",
      "              precision    recall  f1-score   support\n",
      "\n",
      "           0       0.75      0.58      0.65        26\n",
      "           1       0.52      0.46      0.49        24\n",
      "           2       0.78      0.70      0.74        20\n",
      "           3       0.53      0.50      0.52        16\n",
      "           4       0.72      0.62      0.67        21\n",
      "           5       0.25      0.36      0.30        11\n",
      "           6       0.40      1.00      0.57         6\n",
      "           7       0.47      0.40      0.43        20\n",
      "           8       0.33      0.25      0.29         4\n",
      "           9       0.00      0.00      0.00         1\n",
      "          10       0.00      1.00      0.00         0\n",
      "          11       0.00      1.00      0.00         0\n",
      "\n",
      "    accuracy                           0.54       149\n",
      "   macro avg       0.40      0.57      0.39       149\n",
      "weighted avg       0.59      0.54      0.55       149\n",
      "\n"
     ]
    }
   ],
   "source": [
    "\n",
    "\n",
    "from sklearn.metrics import classification_report \n",
    "from sklearn.metrics import confusion_matrix \n",
    "\n",
    "\n",
    "print(\"\\nClassification report for Decision tree classifier\\n\")\n",
    "print(classification_report(dt.predict(X_test), y_test,zero_division=True))\n",
    "\n"
   ]
  },
  {
   "cell_type": "code",
   "execution_count": 63,
   "metadata": {},
   "outputs": [
    {
     "name": "stdout",
     "output_type": "stream",
     "text": [
      "\n",
      "Classification Report for Support Vector Machine\n",
      "\n",
      "              precision    recall  f1-score   support\n",
      "\n",
      "           0       0.95      0.56      0.70        34\n",
      "           1       0.76      0.42      0.54        38\n",
      "           2       0.33      0.43      0.38        14\n",
      "           3       0.00      0.00      0.00         3\n",
      "           4       0.50      0.39      0.44        23\n",
      "           5       0.00      1.00      0.00         0\n",
      "           6       0.27      0.40      0.32        10\n",
      "           7       0.53      0.33      0.41        27\n",
      "           8       0.00      1.00      0.00         0\n",
      "           9       0.00      1.00      0.00         0\n",
      "          10       0.00      1.00      0.00         0\n",
      "          11       0.00      1.00      0.00         0\n",
      "\n",
      "    accuracy                           0.42       149\n",
      "   macro avg       0.28      0.63      0.23       149\n",
      "weighted avg       0.63      0.42      0.50       149\n",
      "\n"
     ]
    }
   ],
   "source": [
    "print(\"\\nClassification Report for Support Vector Machine\\n\")\n",
    "print(classification_report(svc.predict(X_test), y_test,zero_division=True))"
   ]
  },
  {
   "cell_type": "code",
   "execution_count": 64,
   "metadata": {},
   "outputs": [
    {
     "name": "stdout",
     "output_type": "stream",
     "text": [
      "\n",
      "Classification Report for Random Forest Classifier\n",
      "\n",
      "              precision    recall  f1-score   support\n",
      "\n",
      "           0       0.75      0.58      0.65        26\n",
      "           1       0.48      0.43      0.45        23\n",
      "           2       0.78      0.64      0.70        22\n",
      "           3       0.47      0.64      0.54        11\n",
      "           4       0.67      0.67      0.67        18\n",
      "           5       0.50      0.57      0.53        14\n",
      "           6       0.47      0.88      0.61         8\n",
      "           7       0.65      0.44      0.52        25\n",
      "           8       0.00      1.00      0.00         0\n",
      "           9       0.00      0.00      0.00         1\n",
      "          10       0.33      1.00      0.50         1\n",
      "          11       0.00      1.00      0.00         0\n",
      "\n",
      "    accuracy                           0.57       149\n",
      "   macro avg       0.42      0.65      0.43       149\n",
      "weighted avg       0.62      0.57      0.58       149\n",
      "\n"
     ]
    }
   ],
   "source": [
    "\n",
    "print(\"\\nClassification Report for Random Forest Classifier\\n\")\n",
    "print(classification_report(rfc.predict(X_test), y_test,zero_division=True))"
   ]
  },
  {
   "cell_type": "markdown",
   "metadata": {},
   "source": [
    "#### Looking at the Accuracy , It shows that Random Forest Outperforms all other algorithms. But After  Tuning the repective classifiers,\n",
    "we see that Random forest performs much better \n",
    "\n",
    "Lets us an Algorithm Specifically designed for Mutliclass. OnevsRest Classifier"
   ]
  },
  {
   "cell_type": "markdown",
   "metadata": {},
   "source": [
    "### OnevsRest Classifier"
   ]
  },
  {
   "cell_type": "markdown",
   "metadata": {},
   "source": [
    "#### With Random Forest"
   ]
  },
  {
   "cell_type": "code",
   "execution_count": 65,
   "metadata": {
    "scrolled": true
   },
   "outputs": [
    {
     "name": "stdout",
     "output_type": "stream",
     "text": [
      "\n",
      "no of estimators: 3 \n",
      "Best_Score: 61.74496644295302\n"
     ]
    }
   ],
   "source": [
    "from sklearn.multiclass import OneVsRestClassifier\n",
    "from sklearn.multiclass import OneVsOneClassifier\n",
    "\n",
    "max_score=0\n",
    "\n",
    "for i in range(2,50):\n",
    "    RFC=RandomForestClassifier(n_estimators=i)\n",
    "    OVR=OneVsRestClassifier(RFC)\n",
    "    OVR.fit(X_train,y_train)\n",
    "    score=OVR.score(X_test, y_test)*100\n",
    "    if score>max_score:\n",
    "        max_score=score\n",
    "        n_ests=i\n",
    "print(\"\\nno of estimators:\",n_ests,\"\\nBest_Score:\",max_score)\n",
    "\n",
    "\n",
    "\n"
   ]
  },
  {
   "cell_type": "code",
   "execution_count": 66,
   "metadata": {
    "scrolled": true
   },
   "outputs": [
    {
     "name": "stdout",
     "output_type": "stream",
     "text": [
      "Mean_Cross_Validation_Accuracy_Score: 50.40087066932705\n",
      "f1_score: 57.31184798060814\n"
     ]
    }
   ],
   "source": [
    "\n",
    "RFC=RandomForestClassifier(n_estimators=n_ests)\n",
    "OVR=OneVsRestClassifier(RFC)\n",
    "cv_scores = cross_val_score(OVR,X,y,cv=5)\n",
    "print(\"Mean_Cross_Validation_Accuracy_Score:\",np.mean(cv_scores)*100)\n",
    "\n",
    "OVR.fit(X_train,y_train)\n",
    "y_pred=OVR.predict(X_test)\n",
    "print(\"f1_score:\",f1_score(y_pred,y_test,average='weighted')*100)"
   ]
  },
  {
   "cell_type": "markdown",
   "metadata": {},
   "source": [
    "#### With Decision_Tree"
   ]
  },
  {
   "cell_type": "code",
   "execution_count": 67,
   "metadata": {
    "scrolled": false
   },
   "outputs": [
    {
     "name": "stderr",
     "output_type": "stream",
     "text": [
      "C:\\Users\\Devil\\anaconda3\\lib\\site-packages\\sklearn\\model_selection\\_split.py:667: UserWarning: The least populated class in y has only 4 members, which is less than n_splits=5.\n",
      "  % (min_groups, self.n_splits)), UserWarning)\n"
     ]
    },
    {
     "name": "stdout",
     "output_type": "stream",
     "text": [
      "Mean_Cross_Validation_Accuracy_Score : 51.76582622891347\n"
     ]
    }
   ],
   "source": [
    "tree_cv = RandomizedSearchCV(dt, param_dist, cv=5)\n",
    "OVR_cv=OneVsRestClassifier(tree_cv)\n",
    "cv_scores = cross_val_score(OVR_cv,X,y,cv=5)\n",
    "print(\"Mean_Cross_Validation_Accuracy_Score :\",np.mean(cv_scores)*100)\n",
    "\n"
   ]
  },
  {
   "cell_type": "markdown",
   "metadata": {},
   "source": [
    "##### We got the best results with Random forests with OnevsRest Classifier \n",
    "\n",
    "\n",
    "SVM and Logistic Regression are designed to work for binary classfication data, While this is a Multiclassification problem.\n",
    "The Data is also Imbalanced , and Only Decision Tree and Random forest classifier can handle that type of data.\n",
    "\n",
    "Random forest with OnevsRestClassifier is an ensembled and bootstrapped version of Decision Tree, and It Performs the best for this dataset.\n"
   ]
  }
 ],
 "metadata": {
  "kernelspec": {
   "display_name": "Python 3",
   "language": "python",
   "name": "python3"
  },
  "language_info": {
   "codemirror_mode": {
    "name": "ipython",
    "version": 3
   },
   "file_extension": ".py",
   "mimetype": "text/x-python",
   "name": "python",
   "nbconvert_exporter": "python",
   "pygments_lexer": "ipython3",
   "version": "3.7.6"
  }
 },
 "nbformat": 4,
 "nbformat_minor": 2
}
